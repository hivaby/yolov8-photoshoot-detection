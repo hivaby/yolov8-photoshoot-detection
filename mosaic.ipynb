{
 "cells": [
  {
   "cell_type": "code",
   "execution_count": 7,
   "id": "af115e48",
   "metadata": {},
   "outputs": [],
   "source": [
    "import cv2\n",
    "\n",
    "image_path = \"mosaic_result.jpg\"\n",
    "\n",
    "# 이미지 호출\n",
    "image = cv2.imread(image_path)\n",
    "\n",
    "# 이미지 크기에 맞게 창 크기 조정\n",
    "cv2.namedWindow(\"Mosaic Result\", cv2.WINDOW_NORMAL)\n",
    "cv2.setWindowProperty(\"Mosaic Result\", cv2.WND_PROP_FULLSCREEN, cv2.WINDOW_FULLSCREEN)\n",
    "\n",
    "# 이미지 디스플레이\n",
    "cv2.imshow(\"Mosaic Result\", image)\n",
    "\n",
    "# 파이썬 창을 다른 실행 창 중 가장 앞에 위치시키기\n",
    "cv2.waitKey(0)\n",
    "\n",
    "# 모든 창 닫기\n",
    "cv2.destroyAllWindows()\n"
   ]
  },
  {
   "cell_type": "code",
   "execution_count": null,
   "id": "f109ceb3",
   "metadata": {},
   "outputs": [],
   "source": []
  },
  {
   "cell_type": "code",
   "execution_count": null,
   "id": "7b2cd7db",
   "metadata": {},
   "outputs": [],
   "source": []
  },
  {
   "cell_type": "code",
   "execution_count": null,
   "id": "b809258d",
   "metadata": {},
   "outputs": [],
   "source": []
  }
 ],
 "metadata": {
  "kernelspec": {
   "display_name": "Python 3 (ipykernel)",
   "language": "python",
   "name": "python3"
  },
  "language_info": {
   "codemirror_mode": {
    "name": "ipython",
    "version": 3
   },
   "file_extension": ".py",
   "mimetype": "text/x-python",
   "name": "python",
   "nbconvert_exporter": "python",
   "pygments_lexer": "ipython3",
   "version": "3.9.13"
  }
 },
 "nbformat": 4,
 "nbformat_minor": 5
}
