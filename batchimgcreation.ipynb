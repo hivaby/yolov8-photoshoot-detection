{
 "cells": [
  {
   "cell_type": "code",
   "execution_count": 1,
   "id": "7b6518ea",
   "metadata": {},
   "outputs": [
    {
     "ename": "FileNotFoundError",
     "evalue": "[WinError 3] 지정된 경로를 찾을 수 없습니다: 'C:/Users/hivab/AI/ultralytics/runs/detect/predict11'",
     "output_type": "error",
     "traceback": [
      "\u001b[1;31m---------------------------------------------------------------------------\u001b[0m",
      "\u001b[1;31mFileNotFoundError\u001b[0m                         Traceback (most recent call last)",
      "\u001b[1;32m~\\AppData\\Local\\Temp\\ipykernel_12292\\649252829.py\u001b[0m in \u001b[0;36m<module>\u001b[1;34m\u001b[0m\n\u001b[0;32m      7\u001b[0m \u001b[1;33m\u001b[0m\u001b[0m\n\u001b[0;32m      8\u001b[0m \u001b[1;31m# 이미지 파일명 리스트를 가져옴\u001b[0m\u001b[1;33m\u001b[0m\u001b[1;33m\u001b[0m\u001b[0m\n\u001b[1;32m----> 9\u001b[1;33m \u001b[0mimage_files\u001b[0m \u001b[1;33m=\u001b[0m \u001b[1;33m[\u001b[0m\u001b[0mf\u001b[0m \u001b[1;32mfor\u001b[0m \u001b[0mf\u001b[0m \u001b[1;32min\u001b[0m \u001b[0mos\u001b[0m\u001b[1;33m.\u001b[0m\u001b[0mlistdir\u001b[0m\u001b[1;33m(\u001b[0m\u001b[0mimage_folder\u001b[0m\u001b[1;33m)\u001b[0m \u001b[1;32mif\u001b[0m \u001b[0mf\u001b[0m\u001b[1;33m.\u001b[0m\u001b[0mendswith\u001b[0m\u001b[1;33m(\u001b[0m\u001b[1;34m'.jpg'\u001b[0m\u001b[1;33m)\u001b[0m \u001b[1;32mor\u001b[0m \u001b[0mf\u001b[0m\u001b[1;33m.\u001b[0m\u001b[0mendswith\u001b[0m\u001b[1;33m(\u001b[0m\u001b[1;34m'.png'\u001b[0m\u001b[1;33m)\u001b[0m \u001b[1;32mor\u001b[0m \u001b[0mf\u001b[0m\u001b[1;33m.\u001b[0m\u001b[0mendswith\u001b[0m\u001b[1;33m(\u001b[0m\u001b[1;34m'.gif'\u001b[0m\u001b[1;33m)\u001b[0m\u001b[1;33m]\u001b[0m\u001b[1;33m\u001b[0m\u001b[1;33m\u001b[0m\u001b[0m\n\u001b[0m\u001b[0;32m     10\u001b[0m \u001b[1;33m\u001b[0m\u001b[0m\n\u001b[0;32m     11\u001b[0m \u001b[1;31m# 테이블 크기\u001b[0m\u001b[1;33m\u001b[0m\u001b[1;33m\u001b[0m\u001b[0m\n",
      "\u001b[1;31mFileNotFoundError\u001b[0m: [WinError 3] 지정된 경로를 찾을 수 없습니다: 'C:/Users/hivab/AI/ultralytics/runs/detect/predict11'"
     ]
    }
   ],
   "source": [
    "import os\n",
    "import cv2\n",
    "import numpy as np\n",
    "\n",
    "# 이미지를 불러올 폴더 경로\n",
    "image_folder = \"C:/Users/hivab/AI/ultralytics/runs/detect/predict11\"\n",
    "\n",
    "# 이미지 파일명 리스트를 가져옴\n",
    "image_files = [f for f in os.listdir(image_folder) if f.endswith('.jpg') or f.endswith('.png') or f.endswith('.gif')]\n",
    "\n",
    "# 테이블 크기\n",
    "table_size = (780,780)\n",
    "\n",
    "# 이미지 파일을 테이블 크기에 맞게 조정하여 이미지 테이블 생성\n",
    "image_table = np.zeros((table_size[0]*10, table_size[1]*10, 3), dtype=np.uint8)\n",
    "for i, image_file in enumerate(image_files):\n",
    "    # 이미지 파일 불러오기\n",
    "    image = cv2.imread(os.path.join(image_folder, image_file))\n",
    "    \n",
    "    # 이미지 크기 조정\n",
    "    image = cv2.resize(image, table_size[::-1])\n",
    "    \n",
    "    # 이미지 테이블 생성\n",
    "    row_idx, col_idx = divmod(i, 10)\n",
    "    row_start, col_start = row_idx*table_size[0], col_idx*table_size[1]\n",
    "    image_table[row_start:row_start+table_size[0], col_start:col_start+table_size[1], :] = image\n",
    "\n",
    "# 이미지 테이블 출력\n",
    "cv2.imshow('image table', image_table)\n",
    "cv2.waitKey(0)\n",
    "cv2.destroyAllWindows()\n",
    "\n",
    "# 이미지 테이블 저장\n",
    "cv2.imwrite('output11.jpg', image_table)\n"
   ]
  },
  {
   "cell_type": "code",
   "execution_count": null,
   "id": "c0cee883",
   "metadata": {},
   "outputs": [],
   "source": []
  }
 ],
 "metadata": {
  "kernelspec": {
   "display_name": "Python 3 (ipykernel)",
   "language": "python",
   "name": "python3"
  },
  "language_info": {
   "codemirror_mode": {
    "name": "ipython",
    "version": 3
   },
   "file_extension": ".py",
   "mimetype": "text/x-python",
   "name": "python",
   "nbconvert_exporter": "python",
   "pygments_lexer": "ipython3",
   "version": "3.9.13"
  }
 },
 "nbformat": 4,
 "nbformat_minor": 5
}
