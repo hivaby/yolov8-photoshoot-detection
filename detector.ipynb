{
 "cells": [
  {
   "cell_type": "code",
   "execution_count": 14,
   "id": "399496c4",
   "metadata": {},
   "outputs": [
    {
     "name": "stderr",
     "output_type": "stream",
     "text": [
      "Model summary (fused): 168 layers, 3005843 parameters, 0 gradients, 8.1 GFLOPs\n"
     ]
    },
    {
     "name": "stdout",
     "output_type": "stream",
     "text": [
      "Using Device:  cpu\n"
     ]
    },
    {
     "name": "stderr",
     "output_type": "stream",
     "text": [
      "\n",
      "0: 448x640 2 photoshoots, 164.4ms\n",
      "Speed: 1.3ms preprocess, 164.4ms inference, 2.1ms postprocess per image at shape (1, 3, 640, 640)\n",
      "\n"
     ]
    },
    {
     "name": "stdout",
     "output_type": "stream",
     "text": [
      "Saved frame 0 as fishresult\\frame_0.jpg\n",
      "Saved frame 1 as fishresult\\frame_1.jpg\n"
     ]
    },
    {
     "name": "stderr",
     "output_type": "stream",
     "text": [
      "0: 448x640 2 photoshoots, 130.9ms\n",
      "Speed: 1.0ms preprocess, 130.9ms inference, 2.0ms postprocess per image at shape (1, 3, 640, 640)\n",
      "\n",
      "0: 448x640 2 photoshoots, 101.2ms\n",
      "Speed: 1.0ms preprocess, 101.2ms inference, 1.2ms postprocess per image at shape (1, 3, 640, 640)\n",
      "\n"
     ]
    },
    {
     "name": "stdout",
     "output_type": "stream",
     "text": [
      "Saved frame 2 as fishresult\\frame_2.jpg\n",
      "Saved frame 3 as fishresult\\frame_3.jpg\n"
     ]
    },
    {
     "name": "stderr",
     "output_type": "stream",
     "text": [
      "0: 448x640 2 photoshoots, 106.2ms\n",
      "Speed: 2.1ms preprocess, 106.2ms inference, 1.0ms postprocess per image at shape (1, 3, 640, 640)\n",
      "\n",
      "0: 640x640 (no detections), 133.3ms\n",
      "Speed: 1.0ms preprocess, 133.3ms inference, 0.0ms postprocess per image at shape (1, 3, 640, 640)\n",
      "\n"
     ]
    },
    {
     "name": "stdout",
     "output_type": "stream",
     "text": [
      "Saved frame 4 as fishresult\\frame_4.jpg\n",
      "Saved frame 5 as fishresult\\frame_5.jpg\n"
     ]
    },
    {
     "name": "stderr",
     "output_type": "stream",
     "text": [
      "0: 480x640 (no detections), 112.0ms\n",
      "Speed: 1.0ms preprocess, 112.0ms inference, 0.0ms postprocess per image at shape (1, 3, 640, 640)\n",
      "\n",
      "0: 480x640 2 photoshoots, 96.8ms\n",
      "Speed: 0.0ms preprocess, 96.8ms inference, 0.0ms postprocess per image at shape (1, 3, 640, 640)\n",
      "\n"
     ]
    },
    {
     "name": "stdout",
     "output_type": "stream",
     "text": [
      "Saved frame 6 as fishresult\\frame_6.jpg\n",
      "Saved frame 7 as fishresult\\frame_7.jpg\n"
     ]
    },
    {
     "name": "stderr",
     "output_type": "stream",
     "text": [
      "0: 640x512 2 photoshoots, 125.1ms\n",
      "Speed: 1.0ms preprocess, 125.1ms inference, 0.0ms postprocess per image at shape (1, 3, 640, 640)\n",
      "\n",
      "0: 640x512 2 photoshoots, 110.0ms\n",
      "Speed: 1.0ms preprocess, 110.0ms inference, 1.0ms postprocess per image at shape (1, 3, 640, 640)\n",
      "\n"
     ]
    },
    {
     "name": "stdout",
     "output_type": "stream",
     "text": [
      "Saved frame 8 as fishresult\\frame_8.jpg\n",
      "Saved frame 9 as fishresult\\frame_9.jpg\n"
     ]
    },
    {
     "name": "stderr",
     "output_type": "stream",
     "text": [
      "0: 640x480 2 photoshoots, 116.9ms\n",
      "Speed: 1.0ms preprocess, 116.9ms inference, 0.0ms postprocess per image at shape (1, 3, 640, 640)\n",
      "\n",
      "0: 640x512 (no detections), 99.0ms\n",
      "Speed: 0.9ms preprocess, 99.0ms inference, 1.0ms postprocess per image at shape (1, 3, 640, 640)\n",
      "\n"
     ]
    },
    {
     "name": "stdout",
     "output_type": "stream",
     "text": [
      "Saved frame 10 as fishresult\\frame_10.jpg\n",
      "Saved frame 11 as fishresult\\frame_11.jpg\n"
     ]
    },
    {
     "name": "stderr",
     "output_type": "stream",
     "text": [
      "0: 640x512 1 photoshoot, 113.2ms\n",
      "Speed: 2.0ms preprocess, 113.2ms inference, 0.0ms postprocess per image at shape (1, 3, 640, 640)\n",
      "\n",
      "0: 640x576 2 photoshoots, 118.7ms\n",
      "Speed: 1.0ms preprocess, 118.7ms inference, 1.0ms postprocess per image at shape (1, 3, 640, 640)\n",
      "\n"
     ]
    },
    {
     "name": "stdout",
     "output_type": "stream",
     "text": [
      "Saved frame 12 as fishresult\\frame_12.jpg\n",
      "Saved frame 13 as fishresult\\frame_13.jpg\n"
     ]
    },
    {
     "name": "stderr",
     "output_type": "stream",
     "text": [
      "0: 640x544 1 photoshoot, 113.8ms\n",
      "Speed: 1.0ms preprocess, 113.8ms inference, 1.2ms postprocess per image at shape (1, 3, 640, 640)\n",
      "\n",
      "0: 640x512 1 photoshoot, 87.2ms\n",
      "Speed: 0.0ms preprocess, 87.2ms inference, 1.3ms postprocess per image at shape (1, 3, 640, 640)\n",
      "\n"
     ]
    },
    {
     "name": "stdout",
     "output_type": "stream",
     "text": [
      "Saved frame 14 as fishresult\\frame_14.jpg\n",
      "Saved frame 15 as fishresult\\frame_15.jpg\n"
     ]
    },
    {
     "name": "stderr",
     "output_type": "stream",
     "text": [
      "0: 640x640 1 photoshoot, 119.5ms\n",
      "Speed: 1.0ms preprocess, 119.5ms inference, 0.0ms postprocess per image at shape (1, 3, 640, 640)\n",
      "\n",
      "0: 640x640 1 photoshoot, 102.8ms\n",
      "Speed: 1.1ms preprocess, 102.8ms inference, 1.0ms postprocess per image at shape (1, 3, 640, 640)\n",
      "\n"
     ]
    },
    {
     "name": "stdout",
     "output_type": "stream",
     "text": [
      "Saved frame 16 as fishresult\\frame_16.jpg\n",
      "Saved frame 17 as fishresult\\frame_17.jpg\n"
     ]
    },
    {
     "name": "stderr",
     "output_type": "stream",
     "text": [
      "0: 480x640 2 photoshoots, 100.8ms\n",
      "Speed: 1.2ms preprocess, 100.8ms inference, 1.1ms postprocess per image at shape (1, 3, 640, 640)\n",
      "\n",
      "0: 640x512 2 photoshoots, 103.0ms\n",
      "Speed: 1.2ms preprocess, 103.0ms inference, 1.1ms postprocess per image at shape (1, 3, 640, 640)\n",
      "\n"
     ]
    },
    {
     "name": "stdout",
     "output_type": "stream",
     "text": [
      "Saved frame 18 as fishresult\\frame_18.jpg\n",
      "Saved frame 19 as fishresult\\frame_19.jpg\n"
     ]
    },
    {
     "name": "stderr",
     "output_type": "stream",
     "text": [
      "0: 640x640 1 photoshoot, 115.1ms\n",
      "Speed: 1.0ms preprocess, 115.1ms inference, 1.0ms postprocess per image at shape (1, 3, 640, 640)\n",
      "\n",
      "0: 640x640 1 photoshoot, 117.7ms\n",
      "Speed: 1.0ms preprocess, 117.7ms inference, 1.0ms postprocess per image at shape (1, 3, 640, 640)\n",
      "\n"
     ]
    },
    {
     "name": "stdout",
     "output_type": "stream",
     "text": [
      "Saved frame 20 as fishresult\\frame_20.jpg\n",
      "Saved frame 21 as fishresult\\frame_21.jpg\n"
     ]
    },
    {
     "name": "stderr",
     "output_type": "stream",
     "text": [
      "0: 384x640 (no detections), 85.3ms\n",
      "Speed: 1.3ms preprocess, 85.3ms inference, 1.1ms postprocess per image at shape (1, 3, 640, 640)\n",
      "\n",
      "0: 384x640 (no detections), 74.9ms\n",
      "Speed: 1.1ms preprocess, 74.9ms inference, 0.0ms postprocess per image at shape (1, 3, 640, 640)\n",
      "\n",
      "0: 384x640 (no detections), 64.2ms\n",
      "Speed: 1.0ms preprocess, 64.2ms inference, 0.0ms postprocess per image at shape (1, 3, 640, 640)\n",
      "\n"
     ]
    },
    {
     "name": "stdout",
     "output_type": "stream",
     "text": [
      "Saved frame 22 as fishresult\\frame_22.jpg\n",
      "Saved frame 23 as fishresult\\frame_23.jpg\n",
      "Saved frame 24 as fishresult\\frame_24.jpg\n"
     ]
    },
    {
     "name": "stderr",
     "output_type": "stream",
     "text": [
      "0: 384x640 (no detections), 76.0ms\n",
      "Speed: 1.0ms preprocess, 76.0ms inference, 0.0ms postprocess per image at shape (1, 3, 640, 640)\n",
      "\n",
      "0: 448x640 (no detections), 85.2ms\n",
      "Speed: 0.0ms preprocess, 85.2ms inference, 1.0ms postprocess per image at shape (1, 3, 640, 640)\n",
      "\n",
      "0: 448x640 (no detections), 88.8ms\n"
     ]
    },
    {
     "name": "stdout",
     "output_type": "stream",
     "text": [
      "Saved frame 25 as fishresult\\frame_25.jpg\n",
      "Saved frame 26 as fishresult\\frame_26.jpg\n"
     ]
    },
    {
     "name": "stderr",
     "output_type": "stream",
     "text": [
      "Speed: 1.1ms preprocess, 88.8ms inference, 0.0ms postprocess per image at shape (1, 3, 640, 640)\n",
      "\n",
      "0: 448x640 (no detections), 89.1ms\n",
      "Speed: 1.4ms preprocess, 89.1ms inference, 0.0ms postprocess per image at shape (1, 3, 640, 640)\n",
      "\n"
     ]
    },
    {
     "name": "stdout",
     "output_type": "stream",
     "text": [
      "Saved frame 27 as fishresult\\frame_27.jpg\n",
      "Saved frame 28 as fishresult\\frame_28.jpg\n"
     ]
    },
    {
     "name": "stderr",
     "output_type": "stream",
     "text": [
      "0: 480x640 (no detections), 100.4ms\n",
      "Speed: 1.2ms preprocess, 100.4ms inference, 0.0ms postprocess per image at shape (1, 3, 640, 640)\n",
      "\n",
      "0: 448x640 (no detections), 98.5ms\n",
      "Speed: 1.0ms preprocess, 98.5ms inference, 0.0ms postprocess per image at shape (1, 3, 640, 640)\n",
      "\n"
     ]
    },
    {
     "name": "stdout",
     "output_type": "stream",
     "text": [
      "Saved frame 29 as fishresult\\frame_29.jpg\n",
      "Saved frame 30 as fishresult\\frame_30.jpg\n"
     ]
    },
    {
     "name": "stderr",
     "output_type": "stream",
     "text": [
      "0: 640x480 (no detections), 113.6ms\n",
      "Speed: 1.0ms preprocess, 113.6ms inference, 0.0ms postprocess per image at shape (1, 3, 640, 640)\n",
      "\n",
      "0: 640x480 (no detections), 104.0ms\n",
      "Speed: 1.0ms preprocess, 104.0ms inference, 1.1ms postprocess per image at shape (1, 3, 640, 640)\n",
      "\n"
     ]
    },
    {
     "name": "stdout",
     "output_type": "stream",
     "text": [
      "Saved frame 31 as fishresult\\frame_31.jpg\n",
      "Saved frame 32 as fishresult\\frame_32.jpg\n"
     ]
    },
    {
     "name": "stderr",
     "output_type": "stream",
     "text": [
      "0: 640x480 (no detections), 98.9ms\n",
      "Speed: 1.1ms preprocess, 98.9ms inference, 1.5ms postprocess per image at shape (1, 3, 640, 640)\n",
      "\n",
      "0: 640x480 1 photoshoot, 122.6ms\n",
      "Speed: 2.0ms preprocess, 122.6ms inference, 1.0ms postprocess per image at shape (1, 3, 640, 640)\n",
      "\n"
     ]
    },
    {
     "name": "stdout",
     "output_type": "stream",
     "text": [
      "Saved frame 33 as fishresult\\frame_33.jpg\n",
      "Saved frame 34 as fishresult\\frame_34.jpg\n"
     ]
    },
    {
     "name": "stderr",
     "output_type": "stream",
     "text": [
      "0: 640x640 1 photoshoot, 140.2ms\n",
      "Speed: 1.0ms preprocess, 140.2ms inference, 0.0ms postprocess per image at shape (1, 3, 640, 640)\n",
      "\n",
      "0: 480x640 (no detections), 109.2ms\n",
      "Speed: 1.4ms preprocess, 109.2ms inference, 0.0ms postprocess per image at shape (1, 3, 640, 640)\n",
      "\n"
     ]
    },
    {
     "name": "stdout",
     "output_type": "stream",
     "text": [
      "Saved frame 35 as fishresult\\frame_35.jpg\n",
      "Saved frame 36 as fishresult\\frame_36.jpg\n"
     ]
    },
    {
     "name": "stderr",
     "output_type": "stream",
     "text": [
      "0: 480x640 (no detections), 102.7ms\n",
      "Speed: 1.0ms preprocess, 102.7ms inference, 0.0ms postprocess per image at shape (1, 3, 640, 640)\n",
      "\n",
      "0: 480x640 (no detections), 108.9ms\n",
      "Speed: 0.0ms preprocess, 108.9ms inference, 0.0ms postprocess per image at shape (1, 3, 640, 640)\n",
      "\n"
     ]
    },
    {
     "name": "stdout",
     "output_type": "stream",
     "text": [
      "Saved frame 37 as fishresult\\frame_37.jpg\n",
      "Saved frame 38 as fishresult\\frame_38.jpg\n"
     ]
    },
    {
     "name": "stderr",
     "output_type": "stream",
     "text": [
      "0: 480x640 (no detections), 109.1ms\n",
      "Speed: 1.0ms preprocess, 109.1ms inference, 1.0ms postprocess per image at shape (1, 3, 640, 640)\n",
      "\n",
      "0: 480x640 1 photoshoot, 108.4ms\n",
      "Speed: 1.0ms preprocess, 108.4ms inference, 1.2ms postprocess per image at shape (1, 3, 640, 640)\n",
      "\n"
     ]
    },
    {
     "name": "stdout",
     "output_type": "stream",
     "text": [
      "Saved frame 39 as fishresult\\frame_39.jpg\n",
      "Saved frame 40 as fishresult\\frame_40.jpg\n"
     ]
    },
    {
     "name": "stderr",
     "output_type": "stream",
     "text": [
      "0: 640x640 (no detections), 132.7ms\n",
      "Speed: 1.0ms preprocess, 132.7ms inference, 1.0ms postprocess per image at shape (1, 3, 640, 640)\n",
      "\n",
      "0: 640x512 1 photoshoot, 116.2ms\n",
      "Speed: 1.0ms preprocess, 116.2ms inference, 0.0ms postprocess per image at shape (1, 3, 640, 640)\n",
      "\n"
     ]
    },
    {
     "name": "stdout",
     "output_type": "stream",
     "text": [
      "Saved frame 41 as fishresult\\frame_41.jpg\n",
      "Saved frame 42 as fishresult\\frame_42.jpg\n"
     ]
    },
    {
     "name": "stderr",
     "output_type": "stream",
     "text": [
      "0: 448x640 (no detections), 105.3ms\n",
      "Speed: 1.0ms preprocess, 105.3ms inference, 0.0ms postprocess per image at shape (1, 3, 640, 640)\n",
      "\n",
      "0: 448x640 (no detections), 83.0ms\n",
      "Speed: 0.0ms preprocess, 83.0ms inference, 1.0ms postprocess per image at shape (1, 3, 640, 640)\n",
      "\n"
     ]
    },
    {
     "name": "stdout",
     "output_type": "stream",
     "text": [
      "Saved frame 43 as fishresult\\frame_43.jpg\n",
      "Saved frame 44 as fishresult\\frame_44.jpg\n"
     ]
    },
    {
     "name": "stderr",
     "output_type": "stream",
     "text": [
      "0: 448x640 (no detections), 98.3ms\n",
      "Speed: 1.0ms preprocess, 98.3ms inference, 0.0ms postprocess per image at shape (1, 3, 640, 640)\n",
      "\n",
      "0: 448x640 (no detections), 95.4ms\n",
      "Speed: 1.1ms preprocess, 95.4ms inference, 1.0ms postprocess per image at shape (1, 3, 640, 640)\n",
      "\n"
     ]
    },
    {
     "name": "stdout",
     "output_type": "stream",
     "text": [
      "Saved frame 45 as fishresult\\frame_45.jpg\n",
      "Saved frame 46 as fishresult\\frame_46.jpg\n"
     ]
    },
    {
     "name": "stderr",
     "output_type": "stream",
     "text": [
      "0: 448x640 (no detections), 107.5ms\n",
      "Speed: 0.0ms preprocess, 107.5ms inference, 0.0ms postprocess per image at shape (1, 3, 640, 640)\n",
      "\n",
      "0: 448x640 (no detections), 106.6ms\n",
      "Speed: 1.0ms preprocess, 106.6ms inference, 0.0ms postprocess per image at shape (1, 3, 640, 640)\n",
      "\n"
     ]
    },
    {
     "name": "stdout",
     "output_type": "stream",
     "text": [
      "Saved frame 47 as fishresult\\frame_47.jpg\n",
      "Saved frame 48 as fishresult\\frame_48.jpg\n"
     ]
    },
    {
     "name": "stderr",
     "output_type": "stream",
     "text": [
      "0: 448x640 (no detections), 93.6ms\n",
      "Speed: 1.0ms preprocess, 93.6ms inference, 1.0ms postprocess per image at shape (1, 3, 640, 640)\n",
      "\n",
      "0: 448x640 (no detections), 92.5ms\n",
      "Speed: 2.0ms preprocess, 92.5ms inference, 0.0ms postprocess per image at shape (1, 3, 640, 640)\n",
      "\n"
     ]
    },
    {
     "name": "stdout",
     "output_type": "stream",
     "text": [
      "Saved frame 49 as fishresult\\frame_49.jpg\n",
      "Saved frame 50 as fishresult\\frame_50.jpg\n"
     ]
    },
    {
     "name": "stderr",
     "output_type": "stream",
     "text": [
      "0: 480x640 (no detections), 108.2ms\n",
      "Speed: 1.0ms preprocess, 108.2ms inference, 1.0ms postprocess per image at shape (1, 3, 640, 640)\n",
      "\n",
      "0: 448x640 1 photoshoot, 91.7ms\n",
      "Speed: 1.0ms preprocess, 91.7ms inference, 1.0ms postprocess per image at shape (1, 3, 640, 640)\n",
      "\n"
     ]
    },
    {
     "name": "stdout",
     "output_type": "stream",
     "text": [
      "Saved frame 51 as fishresult\\frame_51.jpg\n",
      "Saved frame 52 as fishresult\\frame_52.jpg\n"
     ]
    },
    {
     "name": "stderr",
     "output_type": "stream",
     "text": [
      "0: 448x640 1 photoshoot, 113.0ms\n",
      "Speed: 1.0ms preprocess, 113.0ms inference, 1.0ms postprocess per image at shape (1, 3, 640, 640)\n",
      "\n",
      "0: 480x640 1 photoshoot, 98.3ms\n",
      "Speed: 0.0ms preprocess, 98.3ms inference, 0.0ms postprocess per image at shape (1, 3, 640, 640)\n",
      "\n"
     ]
    },
    {
     "name": "stdout",
     "output_type": "stream",
     "text": [
      "Saved frame 53 as fishresult\\frame_53.jpg\n",
      "Saved frame 54 as fishresult\\frame_54.jpg\n"
     ]
    },
    {
     "name": "stderr",
     "output_type": "stream",
     "text": [
      "0: 480x640 1 photoshoot, 99.1ms\n",
      "Speed: 0.0ms preprocess, 99.1ms inference, 1.0ms postprocess per image at shape (1, 3, 640, 640)\n",
      "\n",
      "0: 480x640 1 photoshoot, 103.7ms\n",
      "Speed: 1.0ms preprocess, 103.7ms inference, 1.0ms postprocess per image at shape (1, 3, 640, 640)\n",
      "\n"
     ]
    },
    {
     "name": "stdout",
     "output_type": "stream",
     "text": [
      "Saved frame 55 as fishresult\\frame_55.jpg\n",
      "Saved frame 56 as fishresult\\frame_56.jpg\n"
     ]
    },
    {
     "name": "stderr",
     "output_type": "stream",
     "text": [
      "0: 480x640 1 photoshoot, 111.6ms\n",
      "Speed: 1.2ms preprocess, 111.6ms inference, 0.0ms postprocess per image at shape (1, 3, 640, 640)\n",
      "\n",
      "0: 416x640 1 photoshoot, 125.2ms\n",
      "Speed: 1.0ms preprocess, 125.2ms inference, 1.0ms postprocess per image at shape (1, 3, 640, 640)\n",
      "\n"
     ]
    },
    {
     "name": "stdout",
     "output_type": "stream",
     "text": [
      "Saved frame 57 as fishresult\\frame_57.jpg\n",
      "Saved frame 58 as fishresult\\frame_58.jpg\n"
     ]
    },
    {
     "name": "stderr",
     "output_type": "stream",
     "text": [
      "0: 640x544 2 photoshoots, 104.2ms\n",
      "Speed: 1.0ms preprocess, 104.2ms inference, 0.0ms postprocess per image at shape (1, 3, 640, 640)\n",
      "\n",
      "0: 640x640 2 photoshoots, 126.3ms\n",
      "Speed: 1.0ms preprocess, 126.3ms inference, 1.2ms postprocess per image at shape (1, 3, 640, 640)\n",
      "\n"
     ]
    },
    {
     "name": "stdout",
     "output_type": "stream",
     "text": [
      "Saved frame 59 as fishresult\\frame_59.jpg\n",
      "Saved frame 60 as fishresult\\frame_60.jpg\n"
     ]
    },
    {
     "name": "stderr",
     "output_type": "stream",
     "text": [
      "0: 384x640 (no detections), 92.8ms\n",
      "Speed: 1.0ms preprocess, 92.8ms inference, 0.0ms postprocess per image at shape (1, 3, 640, 640)\n",
      "\n",
      "0: 480x640 (no detections), 95.2ms\n",
      "Speed: 1.0ms preprocess, 95.2ms inference, 0.0ms postprocess per image at shape (1, 3, 640, 640)\n",
      "\n",
      "0: 384x640 (no detections), 83.7ms\n"
     ]
    },
    {
     "name": "stdout",
     "output_type": "stream",
     "text": [
      "Saved frame 61 as fishresult\\frame_61.jpg\n",
      "Saved frame 62 as fishresult\\frame_62.jpg\n"
     ]
    },
    {
     "name": "stderr",
     "output_type": "stream",
     "text": [
      "Speed: 1.0ms preprocess, 83.7ms inference, 0.0ms postprocess per image at shape (1, 3, 640, 640)\n",
      "\n",
      "0: 384x640 (no detections), 82.9ms\n",
      "Speed: 1.0ms preprocess, 82.9ms inference, 0.0ms postprocess per image at shape (1, 3, 640, 640)\n",
      "\n",
      "0: 384x640 (no detections), 87.6ms\n"
     ]
    },
    {
     "name": "stdout",
     "output_type": "stream",
     "text": [
      "Saved frame 63 as fishresult\\frame_63.jpg\n",
      "Saved frame 64 as fishresult\\frame_64.jpg\n"
     ]
    },
    {
     "name": "stderr",
     "output_type": "stream",
     "text": [
      "Speed: 1.0ms preprocess, 87.6ms inference, 1.0ms postprocess per image at shape (1, 3, 640, 640)\n",
      "\n",
      "0: 640x640 1 photoshoot, 140.8ms\n",
      "Speed: 2.0ms preprocess, 140.8ms inference, 1.4ms postprocess per image at shape (1, 3, 640, 640)\n",
      "\n"
     ]
    },
    {
     "name": "stdout",
     "output_type": "stream",
     "text": [
      "Saved frame 65 as fishresult\\frame_65.jpg\n",
      "Saved frame 66 as fishresult\\frame_66.jpg\n"
     ]
    },
    {
     "name": "stderr",
     "output_type": "stream",
     "text": [
      "0: 544x640 1 photoshoot, 118.8ms\n",
      "Speed: 1.2ms preprocess, 118.8ms inference, 0.0ms postprocess per image at shape (1, 3, 640, 640)\n",
      "\n",
      "0: 640x640 2 photoshoots, 114.1ms\n",
      "Speed: 1.1ms preprocess, 114.1ms inference, 1.2ms postprocess per image at shape (1, 3, 640, 640)\n",
      "\n"
     ]
    },
    {
     "name": "stdout",
     "output_type": "stream",
     "text": [
      "Saved frame 67 as fishresult\\frame_67.jpg\n",
      "Saved frame 68 as fishresult\\frame_68.jpg\n"
     ]
    },
    {
     "name": "stderr",
     "output_type": "stream",
     "text": [
      "0: 640x640 1 photoshoot, 115.3ms\n",
      "Speed: 2.3ms preprocess, 115.3ms inference, 1.0ms postprocess per image at shape (1, 3, 640, 640)\n",
      "\n",
      "0: 640x512 1 photoshoot, 102.8ms\n",
      "Speed: 1.2ms preprocess, 102.8ms inference, 1.0ms postprocess per image at shape (1, 3, 640, 640)\n",
      "\n"
     ]
    },
    {
     "name": "stdout",
     "output_type": "stream",
     "text": [
      "Saved frame 69 as fishresult\\frame_69.jpg\n",
      "Saved frame 70 as fishresult\\frame_70.jpg\n"
     ]
    },
    {
     "name": "stderr",
     "output_type": "stream",
     "text": [
      "0: 640x640 1 photoshoot, 124.3ms\n",
      "Speed: 0.0ms preprocess, 124.3ms inference, 0.0ms postprocess per image at shape (1, 3, 640, 640)\n",
      "\n",
      "0: 640x640 1 photoshoot, 112.8ms\n",
      "Speed: 1.0ms preprocess, 112.8ms inference, 1.0ms postprocess per image at shape (1, 3, 640, 640)\n",
      "\n"
     ]
    },
    {
     "name": "stdout",
     "output_type": "stream",
     "text": [
      "Saved frame 71 as fishresult\\frame_71.jpg\n",
      "Saved frame 72 as fishresult\\frame_72.jpg\n"
     ]
    },
    {
     "name": "stderr",
     "output_type": "stream",
     "text": [
      "0: 480x640 (no detections), 101.8ms\n",
      "Speed: 2.0ms preprocess, 101.8ms inference, 0.0ms postprocess per image at shape (1, 3, 640, 640)\n",
      "\n",
      "0: 480x640 (no detections), 90.0ms\n",
      "Speed: 1.0ms preprocess, 90.0ms inference, 0.0ms postprocess per image at shape (1, 3, 640, 640)\n",
      "\n"
     ]
    },
    {
     "name": "stdout",
     "output_type": "stream",
     "text": [
      "Saved frame 73 as fishresult\\frame_73.jpg\n",
      "Saved frame 74 as fishresult\\frame_74.jpg\n"
     ]
    },
    {
     "name": "stderr",
     "output_type": "stream",
     "text": [
      "0: 480x640 (no detections), 99.6ms\n",
      "Speed: 0.0ms preprocess, 99.6ms inference, 0.0ms postprocess per image at shape (1, 3, 640, 640)\n",
      "\n",
      "0: 480x640 (no detections), 93.6ms\n",
      "Speed: 1.0ms preprocess, 93.6ms inference, 0.0ms postprocess per image at shape (1, 3, 640, 640)\n",
      "\n"
     ]
    },
    {
     "name": "stdout",
     "output_type": "stream",
     "text": [
      "Saved frame 75 as fishresult\\frame_75.jpg\n",
      "Saved frame 76 as fishresult\\frame_76.jpg\n"
     ]
    },
    {
     "name": "stderr",
     "output_type": "stream",
     "text": [
      "0: 480x640 (no detections), 120.0ms\n",
      "Speed: 1.0ms preprocess, 120.0ms inference, 0.0ms postprocess per image at shape (1, 3, 640, 640)\n",
      "\n",
      "0: 480x640 1 photoshoot, 122.0ms\n",
      "Speed: 1.0ms preprocess, 122.0ms inference, 0.0ms postprocess per image at shape (1, 3, 640, 640)\n",
      "\n"
     ]
    },
    {
     "name": "stdout",
     "output_type": "stream",
     "text": [
      "Saved frame 77 as fishresult\\frame_77.jpg\n",
      "Saved frame 78 as fishresult\\frame_78.jpg\n"
     ]
    },
    {
     "name": "stderr",
     "output_type": "stream",
     "text": [
      "0: 480x640 (no detections), 97.1ms\n",
      "Speed: 1.1ms preprocess, 97.1ms inference, 0.0ms postprocess per image at shape (1, 3, 640, 640)\n",
      "\n",
      "0: 480x640 1 photoshoot, 93.8ms\n",
      "Speed: 1.2ms preprocess, 93.8ms inference, 0.0ms postprocess per image at shape (1, 3, 640, 640)\n",
      "\n"
     ]
    },
    {
     "name": "stdout",
     "output_type": "stream",
     "text": [
      "Saved frame 79 as fishresult\\frame_79.jpg\n",
      "Saved frame 80 as fishresult\\frame_80.jpg\n"
     ]
    },
    {
     "name": "stderr",
     "output_type": "stream",
     "text": [
      "0: 480x640 (no detections), 95.9ms\n",
      "Speed: 1.0ms preprocess, 95.9ms inference, 1.0ms postprocess per image at shape (1, 3, 640, 640)\n",
      "\n",
      "0: 480x640 1 photoshoot, 108.6ms\n",
      "Speed: 1.1ms preprocess, 108.6ms inference, 0.0ms postprocess per image at shape (1, 3, 640, 640)\n",
      "\n"
     ]
    },
    {
     "name": "stdout",
     "output_type": "stream",
     "text": [
      "Saved frame 81 as fishresult\\frame_81.jpg\n",
      "Saved frame 82 as fishresult\\frame_82.jpg\n"
     ]
    },
    {
     "name": "stderr",
     "output_type": "stream",
     "text": [
      "0: 480x640 1 photoshoot, 94.6ms\n",
      "Speed: 1.0ms preprocess, 94.6ms inference, 1.0ms postprocess per image at shape (1, 3, 640, 640)\n",
      "\n",
      "0: 480x640 2 photoshoots, 93.0ms\n",
      "Speed: 1.2ms preprocess, 93.0ms inference, 0.0ms postprocess per image at shape (1, 3, 640, 640)\n",
      "\n",
      "0: 480x640 1 photoshoot, 82.6ms\n"
     ]
    },
    {
     "name": "stdout",
     "output_type": "stream",
     "text": [
      "Saved frame 83 as fishresult\\frame_83.jpg\n",
      "Saved frame 84 as fishresult\\frame_84.jpg\n"
     ]
    },
    {
     "name": "stderr",
     "output_type": "stream",
     "text": [
      "Speed: 1.2ms preprocess, 82.6ms inference, 1.0ms postprocess per image at shape (1, 3, 640, 640)\n",
      "\n",
      "0: 480x640 (no detections), 94.9ms\n",
      "Speed: 1.3ms preprocess, 94.9ms inference, 0.0ms postprocess per image at shape (1, 3, 640, 640)\n",
      "\n",
      "0: 480x640 1 photoshoot, 98.1ms\n"
     ]
    },
    {
     "name": "stdout",
     "output_type": "stream",
     "text": [
      "Saved frame 85 as fishresult\\frame_85.jpg\n",
      "Saved frame 86 as fishresult\\frame_86.jpg\n"
     ]
    },
    {
     "name": "stderr",
     "output_type": "stream",
     "text": [
      "Speed: 1.0ms preprocess, 98.1ms inference, 1.0ms postprocess per image at shape (1, 3, 640, 640)\n",
      "\n",
      "0: 480x640 1 photoshoot, 98.6ms\n",
      "Speed: 1.0ms preprocess, 98.6ms inference, 0.0ms postprocess per image at shape (1, 3, 640, 640)\n",
      "\n"
     ]
    },
    {
     "name": "stdout",
     "output_type": "stream",
     "text": [
      "Saved frame 87 as fishresult\\frame_87.jpg\n",
      "Saved frame 88 as fishresult\\frame_88.jpg\n"
     ]
    },
    {
     "name": "stderr",
     "output_type": "stream",
     "text": [
      "0: 480x640 1 photoshoot, 113.3ms\n",
      "Speed: 0.9ms preprocess, 113.3ms inference, 0.0ms postprocess per image at shape (1, 3, 640, 640)\n",
      "\n",
      "0: 480x640 1 photoshoot, 92.7ms\n",
      "Speed: 1.4ms preprocess, 92.7ms inference, 1.0ms postprocess per image at shape (1, 3, 640, 640)\n",
      "\n"
     ]
    },
    {
     "name": "stdout",
     "output_type": "stream",
     "text": [
      "Saved frame 89 as fishresult\\frame_89.jpg\n",
      "Saved frame 90 as fishresult\\frame_90.jpg\n"
     ]
    },
    {
     "name": "stderr",
     "output_type": "stream",
     "text": [
      "0: 480x640 1 photoshoot, 107.1ms\n",
      "Speed: 1.0ms preprocess, 107.1ms inference, 0.0ms postprocess per image at shape (1, 3, 640, 640)\n",
      "\n",
      "0: 480x640 1 photoshoot, 111.3ms\n",
      "Speed: 1.0ms preprocess, 111.3ms inference, 1.0ms postprocess per image at shape (1, 3, 640, 640)\n",
      "\n"
     ]
    },
    {
     "name": "stdout",
     "output_type": "stream",
     "text": [
      "Saved frame 91 as fishresult\\frame_91.jpg\n",
      "Saved frame 92 as fishresult\\frame_92.jpg\n"
     ]
    },
    {
     "name": "stderr",
     "output_type": "stream",
     "text": [
      "0: 480x640 (no detections), 111.8ms\n",
      "Speed: 1.0ms preprocess, 111.8ms inference, 1.0ms postprocess per image at shape (1, 3, 640, 640)\n",
      "\n",
      "0: 480x640 1 photoshoot, 97.0ms\n",
      "Speed: 1.2ms preprocess, 97.0ms inference, 0.0ms postprocess per image at shape (1, 3, 640, 640)\n",
      "\n"
     ]
    },
    {
     "name": "stdout",
     "output_type": "stream",
     "text": [
      "Saved frame 93 as fishresult\\frame_93.jpg\n",
      "Saved frame 94 as fishresult\\frame_94.jpg\n"
     ]
    },
    {
     "name": "stderr",
     "output_type": "stream",
     "text": [
      "0: 480x640 (no detections), 101.9ms\n",
      "Speed: 1.0ms preprocess, 101.9ms inference, 0.0ms postprocess per image at shape (1, 3, 640, 640)\n",
      "\n",
      "0: 480x640 1 photoshoot, 106.0ms\n",
      "Speed: 1.0ms preprocess, 106.0ms inference, 0.0ms postprocess per image at shape (1, 3, 640, 640)\n",
      "\n"
     ]
    },
    {
     "name": "stdout",
     "output_type": "stream",
     "text": [
      "Saved frame 95 as fishresult\\frame_95.jpg\n",
      "Saved frame 96 as fishresult\\frame_96.jpg\n"
     ]
    },
    {
     "name": "stderr",
     "output_type": "stream",
     "text": [
      "0: 480x640 1 photoshoot, 111.7ms\n",
      "Speed: 2.0ms preprocess, 111.7ms inference, 1.0ms postprocess per image at shape (1, 3, 640, 640)\n",
      "\n",
      "0: 480x640 (no detections), 92.1ms\n",
      "Speed: 1.0ms preprocess, 92.1ms inference, 0.0ms postprocess per image at shape (1, 3, 640, 640)\n",
      "\n"
     ]
    },
    {
     "name": "stdout",
     "output_type": "stream",
     "text": [
      "Saved frame 97 as fishresult\\frame_97.jpg\n",
      "Saved frame 98 as fishresult\\frame_98.jpg\n"
     ]
    },
    {
     "name": "stderr",
     "output_type": "stream",
     "text": [
      "0: 480x640 1 photoshoot, 107.2ms\n",
      "Speed: 1.3ms preprocess, 107.2ms inference, 1.0ms postprocess per image at shape (1, 3, 640, 640)\n",
      "\n",
      "0: 480x640 (no detections), 106.0ms\n",
      "Speed: 0.9ms preprocess, 106.0ms inference, 0.0ms postprocess per image at shape (1, 3, 640, 640)\n",
      "\n"
     ]
    },
    {
     "name": "stdout",
     "output_type": "stream",
     "text": [
      "Saved frame 99 as fishresult\\frame_99.jpg\n",
      "Saved frame 100 as fishresult\\frame_100.jpg\n"
     ]
    },
    {
     "name": "stderr",
     "output_type": "stream",
     "text": [
      "0: 480x640 (no detections), 113.7ms\n",
      "Speed: 1.0ms preprocess, 113.7ms inference, 0.0ms postprocess per image at shape (1, 3, 640, 640)\n",
      "\n",
      "0: 480x640 (no detections), 123.8ms\n",
      "Speed: 0.9ms preprocess, 123.8ms inference, 0.0ms postprocess per image at shape (1, 3, 640, 640)\n",
      "\n"
     ]
    },
    {
     "name": "stdout",
     "output_type": "stream",
     "text": [
      "Saved frame 101 as fishresult\\frame_101.jpg\n",
      "Saved frame 102 as fishresult\\frame_102.jpg\n"
     ]
    },
    {
     "name": "stderr",
     "output_type": "stream",
     "text": [
      "0: 480x640 (no detections), 104.0ms\n",
      "Speed: 1.0ms preprocess, 104.0ms inference, 0.0ms postprocess per image at shape (1, 3, 640, 640)\n",
      "\n",
      "0: 480x640 (no detections), 111.6ms\n",
      "Speed: 1.3ms preprocess, 111.6ms inference, 1.0ms postprocess per image at shape (1, 3, 640, 640)\n",
      "\n"
     ]
    },
    {
     "name": "stdout",
     "output_type": "stream",
     "text": [
      "Saved frame 103 as fishresult\\frame_103.jpg\n",
      "Saved frame 104 as fishresult\\frame_104.jpg\n"
     ]
    },
    {
     "name": "stderr",
     "output_type": "stream",
     "text": [
      "0: 480x640 (no detections), 109.0ms\n",
      "Speed: 1.0ms preprocess, 109.0ms inference, 0.0ms postprocess per image at shape (1, 3, 640, 640)\n",
      "\n",
      "0: 480x640 1 photoshoot, 106.6ms\n",
      "Speed: 1.4ms preprocess, 106.6ms inference, 1.2ms postprocess per image at shape (1, 3, 640, 640)\n",
      "\n"
     ]
    },
    {
     "name": "stdout",
     "output_type": "stream",
     "text": [
      "Saved frame 105 as fishresult\\frame_105.jpg\n",
      "Saved frame 106 as fishresult\\frame_106.jpg\n"
     ]
    },
    {
     "name": "stderr",
     "output_type": "stream",
     "text": [
      "0: 480x640 (no detections), 109.4ms\n",
      "Speed: 1.0ms preprocess, 109.4ms inference, 1.0ms postprocess per image at shape (1, 3, 640, 640)\n",
      "\n",
      "0: 480x640 (no detections), 108.7ms\n",
      "Speed: 1.0ms preprocess, 108.7ms inference, 0.0ms postprocess per image at shape (1, 3, 640, 640)\n",
      "\n"
     ]
    },
    {
     "name": "stdout",
     "output_type": "stream",
     "text": [
      "Saved frame 107 as fishresult\\frame_107.jpg\n",
      "Saved frame 108 as fishresult\\frame_108.jpg\n"
     ]
    },
    {
     "name": "stderr",
     "output_type": "stream",
     "text": [
      "0: 480x640 1 photoshoot, 104.1ms\n",
      "Speed: 1.0ms preprocess, 104.1ms inference, 1.0ms postprocess per image at shape (1, 3, 640, 640)\n",
      "\n",
      "0: 480x640 (no detections), 123.1ms\n",
      "Speed: 1.2ms preprocess, 123.1ms inference, 0.0ms postprocess per image at shape (1, 3, 640, 640)\n",
      "\n"
     ]
    },
    {
     "name": "stdout",
     "output_type": "stream",
     "text": [
      "Saved frame 109 as fishresult\\frame_109.jpg\n",
      "Saved frame 110 as fishresult\\frame_110.jpg\n"
     ]
    },
    {
     "name": "stderr",
     "output_type": "stream",
     "text": [
      "0: 480x640 (no detections), 124.0ms\n",
      "Speed: 0.6ms preprocess, 124.0ms inference, 0.0ms postprocess per image at shape (1, 3, 640, 640)\n",
      "\n",
      "0: 480x640 2 photoshoots, 112.8ms\n",
      "Speed: 1.0ms preprocess, 112.8ms inference, 1.0ms postprocess per image at shape (1, 3, 640, 640)\n",
      "\n"
     ]
    },
    {
     "name": "stdout",
     "output_type": "stream",
     "text": [
      "Saved frame 111 as fishresult\\frame_111.jpg\n",
      "Saved frame 112 as fishresult\\frame_112.jpg\n"
     ]
    },
    {
     "name": "stderr",
     "output_type": "stream",
     "text": [
      "0: 480x640 1 photoshoot, 125.5ms\n",
      "Speed: 1.0ms preprocess, 125.5ms inference, 1.0ms postprocess per image at shape (1, 3, 640, 640)\n",
      "\n",
      "0: 480x640 1 photoshoot, 95.1ms\n",
      "Speed: 1.0ms preprocess, 95.1ms inference, 1.2ms postprocess per image at shape (1, 3, 640, 640)\n",
      "\n"
     ]
    },
    {
     "name": "stdout",
     "output_type": "stream",
     "text": [
      "Saved frame 113 as fishresult\\frame_113.jpg\n",
      "Saved frame 114 as fishresult\\frame_114.jpg\n"
     ]
    },
    {
     "name": "stderr",
     "output_type": "stream",
     "text": [
      "0: 480x640 2 photoshoots, 123.6ms\n",
      "Speed: 0.0ms preprocess, 123.6ms inference, 0.0ms postprocess per image at shape (1, 3, 640, 640)\n",
      "\n",
      "0: 480x640 1 photoshoot, 93.8ms\n",
      "Speed: 1.9ms preprocess, 93.8ms inference, 1.4ms postprocess per image at shape (1, 3, 640, 640)\n",
      "\n"
     ]
    },
    {
     "name": "stdout",
     "output_type": "stream",
     "text": [
      "Saved frame 115 as fishresult\\frame_115.jpg\n",
      "Saved frame 116 as fishresult\\frame_116.jpg\n"
     ]
    },
    {
     "name": "stderr",
     "output_type": "stream",
     "text": [
      "0: 480x640 1 photoshoot, 111.2ms\n",
      "Speed: 1.3ms preprocess, 111.2ms inference, 1.0ms postprocess per image at shape (1, 3, 640, 640)\n",
      "\n",
      "0: 480x640 (no detections), 108.5ms\n",
      "Speed: 1.0ms preprocess, 108.5ms inference, 0.0ms postprocess per image at shape (1, 3, 640, 640)\n",
      "\n"
     ]
    },
    {
     "name": "stdout",
     "output_type": "stream",
     "text": [
      "Saved frame 117 as fishresult\\frame_117.jpg\n",
      "Saved frame 118 as fishresult\\frame_118.jpg\n"
     ]
    },
    {
     "name": "stderr",
     "output_type": "stream",
     "text": [
      "0: 480x640 2 photoshoots, 139.6ms\n",
      "Speed: 1.2ms preprocess, 139.6ms inference, 1.0ms postprocess per image at shape (1, 3, 640, 640)\n",
      "\n",
      "0: 480x640 2 photoshoots, 114.2ms\n",
      "Speed: 1.1ms preprocess, 114.2ms inference, 1.0ms postprocess per image at shape (1, 3, 640, 640)\n",
      "\n"
     ]
    },
    {
     "name": "stdout",
     "output_type": "stream",
     "text": [
      "Saved frame 119 as fishresult\\frame_119.jpg\n",
      "Saved frame 120 as fishresult\\frame_120.jpg\n"
     ]
    },
    {
     "name": "stderr",
     "output_type": "stream",
     "text": [
      "0: 480x640 1 photoshoot, 115.7ms\n",
      "Speed: 1.5ms preprocess, 115.7ms inference, 1.0ms postprocess per image at shape (1, 3, 640, 640)\n",
      "\n",
      "0: 480x640 (no detections), 124.9ms\n",
      "Speed: 2.0ms preprocess, 124.9ms inference, 0.0ms postprocess per image at shape (1, 3, 640, 640)\n",
      "\n"
     ]
    },
    {
     "name": "stdout",
     "output_type": "stream",
     "text": [
      "Saved frame 121 as fishresult\\frame_121.jpg\n",
      "Saved frame 122 as fishresult\\frame_122.jpg\n"
     ]
    },
    {
     "name": "stderr",
     "output_type": "stream",
     "text": [
      "0: 480x640 (no detections), 107.4ms\n",
      "Speed: 1.0ms preprocess, 107.4ms inference, 0.0ms postprocess per image at shape (1, 3, 640, 640)\n",
      "\n",
      "0: 480x640 (no detections), 112.4ms\n",
      "Speed: 1.1ms preprocess, 112.4ms inference, 1.0ms postprocess per image at shape (1, 3, 640, 640)\n",
      "\n"
     ]
    },
    {
     "name": "stdout",
     "output_type": "stream",
     "text": [
      "Saved frame 123 as fishresult\\frame_123.jpg\n",
      "Saved frame 124 as fishresult\\frame_124.jpg\n"
     ]
    },
    {
     "name": "stderr",
     "output_type": "stream",
     "text": [
      "0: 480x640 2 photoshoots, 104.6ms\n",
      "Speed: 1.0ms preprocess, 104.6ms inference, 1.0ms postprocess per image at shape (1, 3, 640, 640)\n",
      "\n",
      "0: 480x640 (no detections), 101.7ms\n",
      "Speed: 1.0ms preprocess, 101.7ms inference, 1.0ms postprocess per image at shape (1, 3, 640, 640)\n",
      "\n"
     ]
    },
    {
     "name": "stdout",
     "output_type": "stream",
     "text": [
      "Saved frame 125 as fishresult\\frame_125.jpg\n",
      "Saved frame 126 as fishresult\\frame_126.jpg\n"
     ]
    },
    {
     "name": "stderr",
     "output_type": "stream",
     "text": [
      "0: 480x640 (no detections), 111.4ms\n",
      "Speed: 1.0ms preprocess, 111.4ms inference, 0.0ms postprocess per image at shape (1, 3, 640, 640)\n",
      "\n",
      "0: 480x640 (no detections), 100.2ms\n",
      "Speed: 1.3ms preprocess, 100.2ms inference, 0.0ms postprocess per image at shape (1, 3, 640, 640)\n",
      "\n"
     ]
    },
    {
     "name": "stdout",
     "output_type": "stream",
     "text": [
      "Saved frame 127 as fishresult\\frame_127.jpg\n",
      "Saved frame 128 as fishresult\\frame_128.jpg\n"
     ]
    },
    {
     "name": "stderr",
     "output_type": "stream",
     "text": [
      "0: 480x640 1 photoshoot, 125.9ms\n",
      "Speed: 0.0ms preprocess, 125.9ms inference, 1.1ms postprocess per image at shape (1, 3, 640, 640)\n",
      "\n",
      "0: 480x640 (no detections), 115.0ms\n",
      "Speed: 1.0ms preprocess, 115.0ms inference, 0.0ms postprocess per image at shape (1, 3, 640, 640)\n",
      "\n"
     ]
    },
    {
     "name": "stdout",
     "output_type": "stream",
     "text": [
      "Saved frame 129 as fishresult\\frame_129.jpg\n",
      "Saved frame 130 as fishresult\\frame_130.jpg\n"
     ]
    },
    {
     "name": "stderr",
     "output_type": "stream",
     "text": [
      "0: 480x640 (no detections), 94.8ms\n",
      "Speed: 1.0ms preprocess, 94.8ms inference, 0.0ms postprocess per image at shape (1, 3, 640, 640)\n",
      "\n",
      "0: 480x640 (no detections), 100.7ms\n",
      "Speed: 1.0ms preprocess, 100.7ms inference, 0.0ms postprocess per image at shape (1, 3, 640, 640)\n",
      "\n"
     ]
    },
    {
     "name": "stdout",
     "output_type": "stream",
     "text": [
      "Saved frame 131 as fishresult\\frame_131.jpg\n",
      "Saved frame 132 as fishresult\\frame_132.jpg\n"
     ]
    },
    {
     "name": "stderr",
     "output_type": "stream",
     "text": [
      "0: 480x640 (no detections), 84.7ms\n",
      "Speed: 1.0ms preprocess, 84.7ms inference, 0.0ms postprocess per image at shape (1, 3, 640, 640)\n",
      "\n",
      "0: 480x640 (no detections), 111.9ms\n",
      "Speed: 0.0ms preprocess, 111.9ms inference, 1.0ms postprocess per image at shape (1, 3, 640, 640)\n",
      "\n"
     ]
    },
    {
     "name": "stdout",
     "output_type": "stream",
     "text": [
      "Saved frame 133 as fishresult\\frame_133.jpg\n",
      "Saved frame 134 as fishresult\\frame_134.jpg\n"
     ]
    },
    {
     "name": "stderr",
     "output_type": "stream",
     "text": [
      "0: 480x640 1 photoshoot, 100.5ms\n",
      "Speed: 1.0ms preprocess, 100.5ms inference, 1.0ms postprocess per image at shape (1, 3, 640, 640)\n",
      "\n",
      "0: 480x640 2 photoshoots, 91.6ms\n",
      "Speed: 1.0ms preprocess, 91.6ms inference, 1.0ms postprocess per image at shape (1, 3, 640, 640)\n",
      "\n"
     ]
    },
    {
     "name": "stdout",
     "output_type": "stream",
     "text": [
      "Saved frame 135 as fishresult\\frame_135.jpg\n",
      "Saved frame 136 as fishresult\\frame_136.jpg\n"
     ]
    },
    {
     "name": "stderr",
     "output_type": "stream",
     "text": [
      "0: 480x640 (no detections), 108.1ms\n",
      "Speed: 1.1ms preprocess, 108.1ms inference, 1.0ms postprocess per image at shape (1, 3, 640, 640)\n",
      "\n",
      "0: 480x640 (no detections), 110.1ms\n",
      "Speed: 1.1ms preprocess, 110.1ms inference, 0.0ms postprocess per image at shape (1, 3, 640, 640)\n",
      "\n"
     ]
    },
    {
     "name": "stdout",
     "output_type": "stream",
     "text": [
      "Saved frame 137 as fishresult\\frame_137.jpg\n",
      "Saved frame 138 as fishresult\\frame_138.jpg\n"
     ]
    },
    {
     "name": "stderr",
     "output_type": "stream",
     "text": [
      "0: 480x640 1 photoshoot, 99.1ms\n",
      "Speed: 0.0ms preprocess, 99.1ms inference, 1.0ms postprocess per image at shape (1, 3, 640, 640)\n",
      "\n",
      "0: 480x640 1 photoshoot, 105.5ms\n",
      "Speed: 1.0ms preprocess, 105.5ms inference, 1.0ms postprocess per image at shape (1, 3, 640, 640)\n",
      "\n"
     ]
    },
    {
     "name": "stdout",
     "output_type": "stream",
     "text": [
      "Saved frame 139 as fishresult\\frame_139.jpg\n",
      "Saved frame 140 as fishresult\\frame_140.jpg\n"
     ]
    },
    {
     "name": "stderr",
     "output_type": "stream",
     "text": [
      "0: 480x640 (no detections), 102.4ms\n",
      "Speed: 0.0ms preprocess, 102.4ms inference, 0.0ms postprocess per image at shape (1, 3, 640, 640)\n",
      "\n",
      "0: 480x640 1 photoshoot, 96.9ms\n",
      "Speed: 1.3ms preprocess, 96.9ms inference, 0.0ms postprocess per image at shape (1, 3, 640, 640)\n",
      "\n"
     ]
    },
    {
     "name": "stdout",
     "output_type": "stream",
     "text": [
      "Saved frame 141 as fishresult\\frame_141.jpg\n",
      "Saved frame 142 as fishresult\\frame_142.jpg\n"
     ]
    },
    {
     "name": "stderr",
     "output_type": "stream",
     "text": [
      "0: 480x640 1 photoshoot, 103.1ms\n",
      "Speed: 1.4ms preprocess, 103.1ms inference, 0.0ms postprocess per image at shape (1, 3, 640, 640)\n",
      "\n",
      "0: 480x640 1 photoshoot, 105.0ms\n",
      "Speed: 1.3ms preprocess, 105.0ms inference, 0.0ms postprocess per image at shape (1, 3, 640, 640)\n",
      "\n"
     ]
    },
    {
     "name": "stdout",
     "output_type": "stream",
     "text": [
      "Saved frame 143 as fishresult\\frame_143.jpg\n",
      "Saved frame 144 as fishresult\\frame_144.jpg\n"
     ]
    },
    {
     "name": "stderr",
     "output_type": "stream",
     "text": [
      "0: 480x640 (no detections), 121.6ms\n",
      "Speed: 0.9ms preprocess, 121.6ms inference, 0.0ms postprocess per image at shape (1, 3, 640, 640)\n",
      "\n",
      "0: 480x640 (no detections), 108.1ms\n",
      "Speed: 1.5ms preprocess, 108.1ms inference, 1.0ms postprocess per image at shape (1, 3, 640, 640)\n",
      "\n"
     ]
    },
    {
     "name": "stdout",
     "output_type": "stream",
     "text": [
      "Saved frame 145 as fishresult\\frame_145.jpg\n",
      "Saved frame 146 as fishresult\\frame_146.jpg\n"
     ]
    },
    {
     "name": "stderr",
     "output_type": "stream",
     "text": [
      "0: 480x640 1 photoshoot, 99.7ms\n",
      "Speed: 1.0ms preprocess, 99.7ms inference, 0.0ms postprocess per image at shape (1, 3, 640, 640)\n",
      "\n",
      "0: 480x640 (no detections), 107.6ms\n",
      "Speed: 1.0ms preprocess, 107.6ms inference, 0.0ms postprocess per image at shape (1, 3, 640, 640)\n",
      "\n"
     ]
    },
    {
     "name": "stdout",
     "output_type": "stream",
     "text": [
      "Saved frame 147 as fishresult\\frame_147.jpg\n",
      "Saved frame 148 as fishresult\\frame_148.jpg\n"
     ]
    },
    {
     "name": "stderr",
     "output_type": "stream",
     "text": [
      "0: 480x640 2 photoshoots, 102.2ms\n",
      "Speed: 1.0ms preprocess, 102.2ms inference, 1.0ms postprocess per image at shape (1, 3, 640, 640)\n",
      "\n",
      "0: 480x640 (no detections), 99.8ms\n",
      "Speed: 1.0ms preprocess, 99.8ms inference, 0.0ms postprocess per image at shape (1, 3, 640, 640)\n",
      "\n"
     ]
    },
    {
     "name": "stdout",
     "output_type": "stream",
     "text": [
      "Saved frame 149 as fishresult\\frame_149.jpg\n",
      "Saved frame 150 as fishresult\\frame_150.jpg\n"
     ]
    },
    {
     "name": "stderr",
     "output_type": "stream",
     "text": [
      "0: 480x640 (no detections), 101.4ms\n",
      "Speed: 1.0ms preprocess, 101.4ms inference, 0.0ms postprocess per image at shape (1, 3, 640, 640)\n",
      "\n",
      "0: 480x640 (no detections), 103.7ms\n",
      "Speed: 1.0ms preprocess, 103.7ms inference, 0.0ms postprocess per image at shape (1, 3, 640, 640)\n",
      "\n"
     ]
    },
    {
     "name": "stdout",
     "output_type": "stream",
     "text": [
      "Saved frame 151 as fishresult\\frame_151.jpg\n",
      "Saved frame 152 as fishresult\\frame_152.jpg\n"
     ]
    },
    {
     "name": "stderr",
     "output_type": "stream",
     "text": [
      "0: 480x640 1 photoshoot, 98.7ms\n",
      "Speed: 1.0ms preprocess, 98.7ms inference, 1.0ms postprocess per image at shape (1, 3, 640, 640)\n",
      "\n",
      "0: 480x640 (no detections), 105.6ms\n",
      "Speed: 1.0ms preprocess, 105.6ms inference, 0.0ms postprocess per image at shape (1, 3, 640, 640)\n",
      "\n"
     ]
    },
    {
     "name": "stdout",
     "output_type": "stream",
     "text": [
      "Saved frame 153 as fishresult\\frame_153.jpg\n",
      "Saved frame 154 as fishresult\\frame_154.jpg\n"
     ]
    },
    {
     "name": "stderr",
     "output_type": "stream",
     "text": [
      "0: 480x640 2 photoshoots, 104.2ms\n",
      "Speed: 1.0ms preprocess, 104.2ms inference, 0.0ms postprocess per image at shape (1, 3, 640, 640)\n",
      "\n",
      "0: 480x640 1 photoshoot, 103.3ms\n",
      "Speed: 1.1ms preprocess, 103.3ms inference, 1.0ms postprocess per image at shape (1, 3, 640, 640)\n",
      "\n"
     ]
    },
    {
     "name": "stdout",
     "output_type": "stream",
     "text": [
      "Saved frame 155 as fishresult\\frame_155.jpg\n",
      "Saved frame 156 as fishresult\\frame_156.jpg\n"
     ]
    },
    {
     "name": "stderr",
     "output_type": "stream",
     "text": [
      "0: 480x640 (no detections), 115.5ms\n",
      "Speed: 0.9ms preprocess, 115.5ms inference, 0.0ms postprocess per image at shape (1, 3, 640, 640)\n",
      "\n",
      "0: 480x640 (no detections), 109.6ms\n",
      "Speed: 1.0ms preprocess, 109.6ms inference, 0.0ms postprocess per image at shape (1, 3, 640, 640)\n",
      "\n"
     ]
    },
    {
     "name": "stdout",
     "output_type": "stream",
     "text": [
      "Saved frame 157 as fishresult\\frame_157.jpg\n",
      "Saved frame 158 as fishresult\\frame_158.jpg\n"
     ]
    },
    {
     "name": "stderr",
     "output_type": "stream",
     "text": [
      "0: 480x640 1 photoshoot, 112.9ms\n",
      "Speed: 1.0ms preprocess, 112.9ms inference, 0.0ms postprocess per image at shape (1, 3, 640, 640)\n",
      "\n",
      "0: 480x640 2 photoshoots, 112.4ms\n",
      "Speed: 2.5ms preprocess, 112.4ms inference, 1.0ms postprocess per image at shape (1, 3, 640, 640)\n",
      "\n"
     ]
    },
    {
     "name": "stdout",
     "output_type": "stream",
     "text": [
      "Saved frame 159 as fishresult\\frame_159.jpg\n",
      "Saved frame 160 as fishresult\\frame_160.jpg\n"
     ]
    },
    {
     "name": "stderr",
     "output_type": "stream",
     "text": [
      "0: 480x640 (no detections), 112.4ms\n",
      "Speed: 1.0ms preprocess, 112.4ms inference, 1.0ms postprocess per image at shape (1, 3, 640, 640)\n",
      "\n",
      "0: 480x640 2 photoshoots, 129.3ms\n",
      "Speed: 1.0ms preprocess, 129.3ms inference, 1.0ms postprocess per image at shape (1, 3, 640, 640)\n",
      "\n"
     ]
    },
    {
     "name": "stdout",
     "output_type": "stream",
     "text": [
      "Saved frame 161 as fishresult\\frame_161.jpg\n",
      "Saved frame 162 as fishresult\\frame_162.jpg\n"
     ]
    },
    {
     "name": "stderr",
     "output_type": "stream",
     "text": [
      "0: 480x640 1 photoshoot, 100.6ms\n",
      "Speed: 1.0ms preprocess, 100.6ms inference, 1.0ms postprocess per image at shape (1, 3, 640, 640)\n",
      "\n",
      "0: 480x640 1 photoshoot, 109.5ms\n",
      "Speed: 1.0ms preprocess, 109.5ms inference, 0.0ms postprocess per image at shape (1, 3, 640, 640)\n",
      "\n"
     ]
    },
    {
     "name": "stdout",
     "output_type": "stream",
     "text": [
      "Saved frame 163 as fishresult\\frame_163.jpg\n",
      "Saved frame 164 as fishresult\\frame_164.jpg\n"
     ]
    },
    {
     "name": "stderr",
     "output_type": "stream",
     "text": [
      "0: 480x640 1 photoshoot, 100.6ms\n",
      "Speed: 1.0ms preprocess, 100.6ms inference, 1.0ms postprocess per image at shape (1, 3, 640, 640)\n",
      "\n",
      "0: 480x640 1 photoshoot, 96.6ms\n",
      "Speed: 1.0ms preprocess, 96.6ms inference, 1.0ms postprocess per image at shape (1, 3, 640, 640)\n",
      "\n"
     ]
    },
    {
     "name": "stdout",
     "output_type": "stream",
     "text": [
      "Saved frame 165 as fishresult\\frame_165.jpg\n",
      "Saved frame 166 as fishresult\\frame_166.jpg\n"
     ]
    },
    {
     "name": "stderr",
     "output_type": "stream",
     "text": [
      "0: 480x640 (no detections), 125.0ms\n",
      "Speed: 1.1ms preprocess, 125.0ms inference, 0.0ms postprocess per image at shape (1, 3, 640, 640)\n",
      "\n",
      "0: 480x640 1 photoshoot, 97.6ms\n",
      "Speed: 1.0ms preprocess, 97.6ms inference, 1.0ms postprocess per image at shape (1, 3, 640, 640)\n",
      "\n"
     ]
    },
    {
     "name": "stdout",
     "output_type": "stream",
     "text": [
      "Saved frame 167 as fishresult\\frame_167.jpg\n",
      "Saved frame 168 as fishresult\\frame_168.jpg\n"
     ]
    },
    {
     "name": "stderr",
     "output_type": "stream",
     "text": [
      "0: 480x640 2 photoshoots, 109.7ms\n",
      "Speed: 1.5ms preprocess, 109.7ms inference, 1.1ms postprocess per image at shape (1, 3, 640, 640)\n",
      "\n",
      "0: 480x640 1 photoshoot, 94.7ms\n",
      "Speed: 0.0ms preprocess, 94.7ms inference, 1.0ms postprocess per image at shape (1, 3, 640, 640)\n",
      "\n"
     ]
    },
    {
     "name": "stdout",
     "output_type": "stream",
     "text": [
      "Saved frame 169 as fishresult\\frame_169.jpg\n",
      "Saved frame 170 as fishresult\\frame_170.jpg\n"
     ]
    },
    {
     "name": "stderr",
     "output_type": "stream",
     "text": [
      "0: 480x640 1 photoshoot, 104.5ms\n",
      "Speed: 1.0ms preprocess, 104.5ms inference, 1.0ms postprocess per image at shape (1, 3, 640, 640)\n",
      "\n",
      "0: 480x640 1 photoshoot, 87.3ms\n",
      "Speed: 0.0ms preprocess, 87.3ms inference, 0.0ms postprocess per image at shape (1, 3, 640, 640)\n",
      "\n"
     ]
    },
    {
     "name": "stdout",
     "output_type": "stream",
     "text": [
      "Saved frame 171 as fishresult\\frame_171.jpg\n",
      "Saved frame 172 as fishresult\\frame_172.jpg\n"
     ]
    },
    {
     "name": "stderr",
     "output_type": "stream",
     "text": [
      "0: 480x640 (no detections), 100.6ms\n",
      "Speed: 1.0ms preprocess, 100.6ms inference, 0.0ms postprocess per image at shape (1, 3, 640, 640)\n",
      "\n",
      "0: 480x640 1 photoshoot, 106.9ms\n",
      "Speed: 1.0ms preprocess, 106.9ms inference, 1.0ms postprocess per image at shape (1, 3, 640, 640)\n",
      "\n"
     ]
    },
    {
     "name": "stdout",
     "output_type": "stream",
     "text": [
      "Saved frame 173 as fishresult\\frame_173.jpg\n",
      "Saved frame 174 as fishresult\\frame_174.jpg\n"
     ]
    },
    {
     "name": "stderr",
     "output_type": "stream",
     "text": [
      "0: 480x640 2 photoshoots, 89.5ms\n",
      "Speed: 0.0ms preprocess, 89.5ms inference, 0.0ms postprocess per image at shape (1, 3, 640, 640)\n",
      "\n",
      "0: 480x640 (no detections), 111.4ms\n",
      "Speed: 1.2ms preprocess, 111.4ms inference, 1.0ms postprocess per image at shape (1, 3, 640, 640)\n",
      "\n"
     ]
    },
    {
     "name": "stdout",
     "output_type": "stream",
     "text": [
      "Saved frame 175 as fishresult\\frame_175.jpg\n",
      "Saved frame 176 as fishresult\\frame_176.jpg\n"
     ]
    },
    {
     "name": "stderr",
     "output_type": "stream",
     "text": [
      "0: 480x640 1 photoshoot, 102.8ms\n",
      "Speed: 0.0ms preprocess, 102.8ms inference, 0.0ms postprocess per image at shape (1, 3, 640, 640)\n",
      "\n",
      "0: 480x640 1 photoshoot, 97.0ms\n",
      "Speed: 1.0ms preprocess, 97.0ms inference, 1.0ms postprocess per image at shape (1, 3, 640, 640)\n"
     ]
    },
    {
     "name": "stdout",
     "output_type": "stream",
     "text": [
      "Saved frame 177 as fishresult\\frame_177.jpg\n"
     ]
    },
    {
     "name": "stderr",
     "output_type": "stream",
     "text": [
      "\n",
      "0: 480x640 (no detections), 121.5ms\n",
      "Speed: 2.0ms preprocess, 121.5ms inference, 0.0ms postprocess per image at shape (1, 3, 640, 640)\n",
      "\n"
     ]
    },
    {
     "name": "stdout",
     "output_type": "stream",
     "text": [
      "Saved frame 178 as fishresult\\frame_178.jpg\n",
      "Saved frame 179 as fishresult\\frame_179.jpg\n"
     ]
    },
    {
     "name": "stderr",
     "output_type": "stream",
     "text": [
      "0: 480x640 (no detections), 126.6ms\n",
      "Speed: 1.0ms preprocess, 126.6ms inference, 0.0ms postprocess per image at shape (1, 3, 640, 640)\n",
      "\n",
      "0: 480x640 1 photoshoot, 108.1ms\n",
      "Speed: 1.5ms preprocess, 108.1ms inference, 1.0ms postprocess per image at shape (1, 3, 640, 640)\n",
      "\n"
     ]
    },
    {
     "name": "stdout",
     "output_type": "stream",
     "text": [
      "Saved frame 180 as fishresult\\frame_180.jpg\n",
      "Saved frame 181 as fishresult\\frame_181.jpg\n"
     ]
    },
    {
     "name": "stderr",
     "output_type": "stream",
     "text": [
      "0: 480x640 (no detections), 98.7ms\n",
      "Speed: 0.0ms preprocess, 98.7ms inference, 0.0ms postprocess per image at shape (1, 3, 640, 640)\n",
      "\n",
      "0: 480x640 (no detections), 108.2ms\n",
      "Speed: 1.2ms preprocess, 108.2ms inference, 0.0ms postprocess per image at shape (1, 3, 640, 640)\n",
      "\n"
     ]
    },
    {
     "name": "stdout",
     "output_type": "stream",
     "text": [
      "Saved frame 182 as fishresult\\frame_182.jpg\n",
      "Saved frame 183 as fishresult\\frame_183.jpg\n"
     ]
    },
    {
     "name": "stderr",
     "output_type": "stream",
     "text": [
      "0: 480x640 1 photoshoot, 91.3ms\n",
      "Speed: 1.0ms preprocess, 91.3ms inference, 1.0ms postprocess per image at shape (1, 3, 640, 640)\n",
      "\n",
      "0: 480x640 1 photoshoot, 96.5ms\n",
      "Speed: 1.0ms preprocess, 96.5ms inference, 1.0ms postprocess per image at shape (1, 3, 640, 640)\n",
      "\n"
     ]
    },
    {
     "name": "stdout",
     "output_type": "stream",
     "text": [
      "Saved frame 184 as fishresult\\frame_184.jpg\n",
      "Saved frame 185 as fishresult\\frame_185.jpg\n"
     ]
    },
    {
     "name": "stderr",
     "output_type": "stream",
     "text": [
      "0: 480x640 (no detections), 111.4ms\n",
      "Speed: 1.0ms preprocess, 111.4ms inference, 0.0ms postprocess per image at shape (1, 3, 640, 640)\n",
      "\n",
      "0: 480x640 (no detections), 90.6ms\n",
      "Speed: 1.0ms preprocess, 90.6ms inference, 0.0ms postprocess per image at shape (1, 3, 640, 640)\n",
      "\n"
     ]
    },
    {
     "name": "stdout",
     "output_type": "stream",
     "text": [
      "Saved frame 186 as fishresult\\frame_186.jpg\n",
      "Saved frame 187 as fishresult\\frame_187.jpg\n"
     ]
    },
    {
     "name": "stderr",
     "output_type": "stream",
     "text": [
      "0: 480x640 (no detections), 97.7ms\n",
      "Speed: 0.0ms preprocess, 97.7ms inference, 0.0ms postprocess per image at shape (1, 3, 640, 640)\n",
      "\n",
      "0: 480x640 (no detections), 101.5ms\n",
      "Speed: 1.0ms preprocess, 101.5ms inference, 0.0ms postprocess per image at shape (1, 3, 640, 640)\n",
      "\n"
     ]
    },
    {
     "name": "stdout",
     "output_type": "stream",
     "text": [
      "Saved frame 188 as fishresult\\frame_188.jpg\n",
      "Saved frame 189 as fishresult\\frame_189.jpg\n"
     ]
    },
    {
     "name": "stderr",
     "output_type": "stream",
     "text": [
      "0: 480x640 1 photoshoot, 91.2ms\n",
      "Speed: 1.1ms preprocess, 91.2ms inference, 1.0ms postprocess per image at shape (1, 3, 640, 640)\n",
      "\n",
      "0: 480x640 2 photoshoots, 90.1ms\n",
      "Speed: 1.0ms preprocess, 90.1ms inference, 0.0ms postprocess per image at shape (1, 3, 640, 640)\n",
      "\n"
     ]
    },
    {
     "name": "stdout",
     "output_type": "stream",
     "text": [
      "Saved frame 190 as fishresult\\frame_190.jpg\n",
      "Saved frame 191 as fishresult\\frame_191.jpg\n"
     ]
    },
    {
     "name": "stderr",
     "output_type": "stream",
     "text": [
      "0: 480x640 1 photoshoot, 87.0ms\n",
      "Speed: 1.0ms preprocess, 87.0ms inference, 0.0ms postprocess per image at shape (1, 3, 640, 640)\n",
      "\n",
      "0: 480x640 (no detections), 85.2ms\n",
      "Speed: 1.0ms preprocess, 85.2ms inference, 1.0ms postprocess per image at shape (1, 3, 640, 640)\n",
      "\n"
     ]
    },
    {
     "name": "stdout",
     "output_type": "stream",
     "text": [
      "Saved frame 192 as fishresult\\frame_192.jpg\n",
      "Saved frame 193 as fishresult\\frame_193.jpg\n"
     ]
    },
    {
     "name": "stderr",
     "output_type": "stream",
     "text": [
      "0: 480x640 1 photoshoot, 88.8ms\n",
      "Speed: 1.0ms preprocess, 88.8ms inference, 0.0ms postprocess per image at shape (1, 3, 640, 640)\n",
      "\n",
      "0: 480x640 1 photoshoot, 91.6ms\n",
      "Speed: 1.2ms preprocess, 91.6ms inference, 1.0ms postprocess per image at shape (1, 3, 640, 640)\n",
      "\n"
     ]
    },
    {
     "name": "stdout",
     "output_type": "stream",
     "text": [
      "Saved frame 194 as fishresult\\frame_194.jpg\n",
      "Saved frame 195 as fishresult\\frame_195.jpg\n"
     ]
    },
    {
     "name": "stderr",
     "output_type": "stream",
     "text": [
      "0: 480x640 (no detections), 91.1ms\n",
      "Speed: 1.2ms preprocess, 91.1ms inference, 0.0ms postprocess per image at shape (1, 3, 640, 640)\n",
      "\n",
      "0: 480x640 1 photoshoot, 104.6ms\n",
      "Speed: 1.0ms preprocess, 104.6ms inference, 0.0ms postprocess per image at shape (1, 3, 640, 640)\n",
      "\n"
     ]
    },
    {
     "name": "stdout",
     "output_type": "stream",
     "text": [
      "Saved frame 196 as fishresult\\frame_196.jpg\n",
      "Saved frame 197 as fishresult\\frame_197.jpg\n"
     ]
    },
    {
     "name": "stderr",
     "output_type": "stream",
     "text": [
      "0: 480x640 1 photoshoot, 92.0ms\n",
      "Speed: 1.1ms preprocess, 92.0ms inference, 0.0ms postprocess per image at shape (1, 3, 640, 640)\n",
      "\n",
      "0: 480x640 (no detections), 92.8ms\n",
      "Speed: 1.0ms preprocess, 92.8ms inference, 0.0ms postprocess per image at shape (1, 3, 640, 640)\n",
      "\n"
     ]
    },
    {
     "name": "stdout",
     "output_type": "stream",
     "text": [
      "Saved frame 198 as fishresult\\frame_198.jpg\n",
      "Saved frame 199 as fishresult\\frame_199.jpg\n"
     ]
    },
    {
     "name": "stderr",
     "output_type": "stream",
     "text": [
      "0: 480x640 (no detections), 88.9ms\n",
      "Speed: 0.0ms preprocess, 88.9ms inference, 1.0ms postprocess per image at shape (1, 3, 640, 640)\n",
      "\n",
      "0: 480x640 (no detections), 95.0ms\n",
      "Speed: 0.0ms preprocess, 95.0ms inference, 0.0ms postprocess per image at shape (1, 3, 640, 640)\n",
      "\n"
     ]
    },
    {
     "name": "stdout",
     "output_type": "stream",
     "text": [
      "Saved frame 200 as fishresult\\frame_200.jpg\n",
      "Saved frame 201 as fishresult\\frame_201.jpg\n"
     ]
    },
    {
     "name": "stderr",
     "output_type": "stream",
     "text": [
      "0: 480x640 (no detections), 104.4ms\n",
      "Speed: 1.0ms preprocess, 104.4ms inference, 0.0ms postprocess per image at shape (1, 3, 640, 640)\n",
      "\n",
      "0: 480x640 1 photoshoot, 115.2ms\n",
      "Speed: 0.0ms preprocess, 115.2ms inference, 0.0ms postprocess per image at shape (1, 3, 640, 640)\n",
      "\n"
     ]
    },
    {
     "name": "stdout",
     "output_type": "stream",
     "text": [
      "Saved frame 202 as fishresult\\frame_202.jpg\n",
      "Saved frame 203 as fishresult\\frame_203.jpg\n"
     ]
    },
    {
     "name": "stderr",
     "output_type": "stream",
     "text": [
      "0: 480x640 1 photoshoot, 95.8ms\n",
      "Speed: 0.0ms preprocess, 95.8ms inference, 0.0ms postprocess per image at shape (1, 3, 640, 640)\n",
      "\n",
      "0: 480x640 (no detections), 95.3ms\n",
      "Speed: 1.0ms preprocess, 95.3ms inference, 1.0ms postprocess per image at shape (1, 3, 640, 640)\n",
      "\n"
     ]
    },
    {
     "name": "stdout",
     "output_type": "stream",
     "text": [
      "Saved frame 204 as fishresult\\frame_204.jpg\n",
      "Saved frame 205 as fishresult\\frame_205.jpg\n"
     ]
    },
    {
     "name": "stderr",
     "output_type": "stream",
     "text": [
      "0: 480x640 (no detections), 109.3ms\n",
      "Speed: 1.0ms preprocess, 109.3ms inference, 0.0ms postprocess per image at shape (1, 3, 640, 640)\n",
      "\n",
      "0: 480x640 1 photoshoot, 89.9ms\n",
      "Speed: 0.9ms preprocess, 89.9ms inference, 1.0ms postprocess per image at shape (1, 3, 640, 640)\n",
      "\n"
     ]
    },
    {
     "name": "stdout",
     "output_type": "stream",
     "text": [
      "Saved frame 206 as fishresult\\frame_206.jpg\n",
      "Saved frame 207 as fishresult\\frame_207.jpg\n"
     ]
    },
    {
     "name": "stderr",
     "output_type": "stream",
     "text": [
      "0: 480x640 (no detections), 94.7ms\n",
      "Speed: 1.0ms preprocess, 94.7ms inference, 0.0ms postprocess per image at shape (1, 3, 640, 640)\n",
      "\n",
      "0: 480x640 (no detections), 117.5ms\n",
      "Speed: 1.1ms preprocess, 117.5ms inference, 1.0ms postprocess per image at shape (1, 3, 640, 640)\n",
      "\n"
     ]
    },
    {
     "name": "stdout",
     "output_type": "stream",
     "text": [
      "Saved frame 208 as fishresult\\frame_208.jpg\n",
      "Saved frame 209 as fishresult\\frame_209.jpg\n"
     ]
    },
    {
     "name": "stderr",
     "output_type": "stream",
     "text": [
      "0: 480x640 (no detections), 107.9ms\n",
      "Speed: 1.0ms preprocess, 107.9ms inference, 0.0ms postprocess per image at shape (1, 3, 640, 640)\n",
      "\n",
      "0: 480x640 (no detections), 106.0ms\n",
      "Speed: 1.0ms preprocess, 106.0ms inference, 0.0ms postprocess per image at shape (1, 3, 640, 640)\n",
      "\n"
     ]
    },
    {
     "name": "stdout",
     "output_type": "stream",
     "text": [
      "Saved frame 210 as fishresult\\frame_210.jpg\n",
      "Saved frame 211 as fishresult\\frame_211.jpg\n"
     ]
    },
    {
     "name": "stderr",
     "output_type": "stream",
     "text": [
      "0: 480x640 (no detections), 97.7ms\n",
      "Speed: 1.2ms preprocess, 97.7ms inference, 0.0ms postprocess per image at shape (1, 3, 640, 640)\n",
      "\n",
      "0: 480x640 (no detections), 98.9ms\n",
      "Speed: 1.3ms preprocess, 98.9ms inference, 0.0ms postprocess per image at shape (1, 3, 640, 640)\n",
      "\n"
     ]
    },
    {
     "name": "stdout",
     "output_type": "stream",
     "text": [
      "Saved frame 212 as fishresult\\frame_212.jpg\n",
      "Saved frame 213 as fishresult\\frame_213.jpg\n"
     ]
    },
    {
     "name": "stderr",
     "output_type": "stream",
     "text": [
      "0: 480x640 1 photoshoot, 110.1ms\n",
      "Speed: 1.0ms preprocess, 110.1ms inference, 0.0ms postprocess per image at shape (1, 3, 640, 640)\n",
      "\n",
      "0: 480x640 1 photoshoot, 119.1ms\n",
      "Speed: 1.0ms preprocess, 119.1ms inference, 0.0ms postprocess per image at shape (1, 3, 640, 640)\n",
      "\n"
     ]
    },
    {
     "name": "stdout",
     "output_type": "stream",
     "text": [
      "Saved frame 214 as fishresult\\frame_214.jpg\n",
      "Saved frame 215 as fishresult\\frame_215.jpg\n"
     ]
    },
    {
     "name": "stderr",
     "output_type": "stream",
     "text": [
      "0: 480x640 1 photoshoot, 103.5ms\n",
      "Speed: 1.0ms preprocess, 103.5ms inference, 0.0ms postprocess per image at shape (1, 3, 640, 640)\n",
      "\n",
      "0: 480x640 1 photoshoot, 104.4ms\n",
      "Speed: 1.0ms preprocess, 104.4ms inference, 1.1ms postprocess per image at shape (1, 3, 640, 640)\n",
      "\n"
     ]
    },
    {
     "name": "stdout",
     "output_type": "stream",
     "text": [
      "Saved frame 216 as fishresult\\frame_216.jpg\n",
      "Saved frame 217 as fishresult\\frame_217.jpg\n"
     ]
    },
    {
     "name": "stderr",
     "output_type": "stream",
     "text": [
      "0: 480x640 (no detections), 109.8ms\n",
      "Speed: 1.1ms preprocess, 109.8ms inference, 0.0ms postprocess per image at shape (1, 3, 640, 640)\n",
      "\n",
      "0: 480x640 (no detections), 96.6ms\n",
      "Speed: 1.2ms preprocess, 96.6ms inference, 0.0ms postprocess per image at shape (1, 3, 640, 640)\n",
      "\n"
     ]
    },
    {
     "name": "stdout",
     "output_type": "stream",
     "text": [
      "Saved frame 218 as fishresult\\frame_218.jpg\n",
      "Saved frame 219 as fishresult\\frame_219.jpg\n"
     ]
    },
    {
     "name": "stderr",
     "output_type": "stream",
     "text": [
      "0: 480x640 1 photoshoot, 105.7ms\n",
      "Speed: 1.0ms preprocess, 105.7ms inference, 0.0ms postprocess per image at shape (1, 3, 640, 640)\n",
      "\n",
      "0: 480x640 (no detections), 131.5ms\n",
      "Speed: 1.0ms preprocess, 131.5ms inference, 0.0ms postprocess per image at shape (1, 3, 640, 640)\n",
      "\n"
     ]
    },
    {
     "name": "stdout",
     "output_type": "stream",
     "text": [
      "Saved frame 220 as fishresult\\frame_220.jpg\n",
      "Saved frame 221 as fishresult\\frame_221.jpg\n"
     ]
    },
    {
     "name": "stderr",
     "output_type": "stream",
     "text": [
      "0: 480x640 (no detections), 111.6ms\n",
      "Speed: 1.0ms preprocess, 111.6ms inference, 0.0ms postprocess per image at shape (1, 3, 640, 640)\n",
      "\n",
      "0: 480x640 (no detections), 97.0ms\n",
      "Speed: 2.0ms preprocess, 97.0ms inference, 0.0ms postprocess per image at shape (1, 3, 640, 640)\n",
      "\n"
     ]
    },
    {
     "name": "stdout",
     "output_type": "stream",
     "text": [
      "Saved frame 222 as fishresult\\frame_222.jpg\n",
      "Saved frame 223 as fishresult\\frame_223.jpg\n"
     ]
    },
    {
     "name": "stderr",
     "output_type": "stream",
     "text": [
      "0: 480x640 (no detections), 113.7ms\n",
      "Speed: 1.0ms preprocess, 113.7ms inference, 0.0ms postprocess per image at shape (1, 3, 640, 640)\n",
      "\n",
      "0: 480x640 (no detections), 116.6ms\n",
      "Speed: 1.0ms preprocess, 116.6ms inference, 0.0ms postprocess per image at shape (1, 3, 640, 640)\n",
      "\n"
     ]
    },
    {
     "name": "stdout",
     "output_type": "stream",
     "text": [
      "Saved frame 224 as fishresult\\frame_224.jpg\n",
      "Saved frame 225 as fishresult\\frame_225.jpg\n"
     ]
    },
    {
     "name": "stderr",
     "output_type": "stream",
     "text": [
      "0: 480x640 (no detections), 92.4ms\n",
      "Speed: 1.0ms preprocess, 92.4ms inference, 1.0ms postprocess per image at shape (1, 3, 640, 640)\n",
      "\n",
      "0: 480x640 (no detections), 103.6ms\n",
      "Speed: 0.0ms preprocess, 103.6ms inference, 0.0ms postprocess per image at shape (1, 3, 640, 640)\n",
      "\n"
     ]
    },
    {
     "name": "stdout",
     "output_type": "stream",
     "text": [
      "Saved frame 226 as fishresult\\frame_226.jpg\n",
      "Saved frame 227 as fishresult\\frame_227.jpg\n"
     ]
    },
    {
     "name": "stderr",
     "output_type": "stream",
     "text": [
      "0: 480x640 (no detections), 99.7ms\n",
      "Speed: 2.0ms preprocess, 99.7ms inference, 1.0ms postprocess per image at shape (1, 3, 640, 640)\n",
      "\n",
      "0: 480x640 (no detections), 111.6ms\n",
      "Speed: 1.0ms preprocess, 111.6ms inference, 1.0ms postprocess per image at shape (1, 3, 640, 640)\n",
      "\n"
     ]
    },
    {
     "name": "stdout",
     "output_type": "stream",
     "text": [
      "Saved frame 228 as fishresult\\frame_228.jpg\n",
      "Saved frame 229 as fishresult\\frame_229.jpg\n"
     ]
    },
    {
     "name": "stderr",
     "output_type": "stream",
     "text": [
      "0: 480x640 1 photoshoot, 103.7ms\n",
      "Speed: 1.0ms preprocess, 103.7ms inference, 0.0ms postprocess per image at shape (1, 3, 640, 640)\n",
      "\n",
      "0: 480x640 1 photoshoot, 95.5ms\n",
      "Speed: 1.4ms preprocess, 95.5ms inference, 0.0ms postprocess per image at shape (1, 3, 640, 640)\n",
      "\n"
     ]
    },
    {
     "name": "stdout",
     "output_type": "stream",
     "text": [
      "Saved frame 230 as fishresult\\frame_230.jpg\n",
      "Saved frame 231 as fishresult\\frame_231.jpg\n"
     ]
    },
    {
     "name": "stderr",
     "output_type": "stream",
     "text": [
      "0: 480x640 1 photoshoot, 95.9ms\n",
      "Speed: 1.0ms preprocess, 95.9ms inference, 1.0ms postprocess per image at shape (1, 3, 640, 640)\n",
      "\n",
      "0: 480x640 (no detections), 94.7ms\n",
      "Speed: 1.0ms preprocess, 94.7ms inference, 1.0ms postprocess per image at shape (1, 3, 640, 640)\n",
      "\n"
     ]
    },
    {
     "name": "stdout",
     "output_type": "stream",
     "text": [
      "Saved frame 232 as fishresult\\frame_232.jpg\n",
      "Saved frame 233 as fishresult\\frame_233.jpg\n"
     ]
    },
    {
     "name": "stderr",
     "output_type": "stream",
     "text": [
      "0: 480x640 (no detections), 93.7ms\n",
      "Speed: 1.0ms preprocess, 93.7ms inference, 0.0ms postprocess per image at shape (1, 3, 640, 640)\n",
      "\n",
      "0: 480x640 1 photoshoot, 87.0ms\n",
      "Speed: 1.0ms preprocess, 87.0ms inference, 1.0ms postprocess per image at shape (1, 3, 640, 640)\n",
      "\n",
      "0: 480x640 (no detections), 93.7ms\n"
     ]
    },
    {
     "name": "stdout",
     "output_type": "stream",
     "text": [
      "Saved frame 234 as fishresult\\frame_234.jpg\n",
      "Saved frame 235 as fishresult\\frame_235.jpg\n"
     ]
    },
    {
     "name": "stderr",
     "output_type": "stream",
     "text": [
      "Speed: 1.0ms preprocess, 93.7ms inference, 0.0ms postprocess per image at shape (1, 3, 640, 640)\n",
      "\n",
      "0: 480x640 (no detections), 99.7ms\n",
      "Speed: 1.0ms preprocess, 99.7ms inference, 1.0ms postprocess per image at shape (1, 3, 640, 640)\n",
      "\n"
     ]
    },
    {
     "name": "stdout",
     "output_type": "stream",
     "text": [
      "Saved frame 236 as fishresult\\frame_236.jpg\n",
      "Saved frame 237 as fishresult\\frame_237.jpg\n"
     ]
    },
    {
     "name": "stderr",
     "output_type": "stream",
     "text": [
      "0: 480x640 (no detections), 92.7ms\n",
      "Speed: 0.0ms preprocess, 92.7ms inference, 1.0ms postprocess per image at shape (1, 3, 640, 640)\n",
      "\n",
      "0: 480x640 (no detections), 94.7ms\n",
      "Speed: 1.0ms preprocess, 94.7ms inference, 0.0ms postprocess per image at shape (1, 3, 640, 640)\n",
      "\n"
     ]
    },
    {
     "name": "stdout",
     "output_type": "stream",
     "text": [
      "Saved frame 238 as fishresult\\frame_238.jpg\n",
      "Saved frame 239 as fishresult\\frame_239.jpg\n"
     ]
    },
    {
     "name": "stderr",
     "output_type": "stream",
     "text": [
      "0: 480x640 1 photoshoot, 87.7ms\n",
      "Speed: 1.0ms preprocess, 87.7ms inference, 1.0ms postprocess per image at shape (1, 3, 640, 640)\n",
      "\n",
      "0: 480x640 (no detections), 103.7ms\n",
      "Speed: 1.0ms preprocess, 103.7ms inference, 0.0ms postprocess per image at shape (1, 3, 640, 640)\n",
      "\n"
     ]
    },
    {
     "name": "stdout",
     "output_type": "stream",
     "text": [
      "Saved frame 240 as fishresult\\frame_240.jpg\n",
      "Saved frame 241 as fishresult\\frame_241.jpg\n"
     ]
    },
    {
     "name": "stderr",
     "output_type": "stream",
     "text": [
      "0: 480x640 (no detections), 97.7ms\n",
      "Speed: 0.0ms preprocess, 97.7ms inference, 0.0ms postprocess per image at shape (1, 3, 640, 640)\n",
      "\n",
      "0: 480x640 (no detections), 88.7ms\n",
      "Speed: 1.0ms preprocess, 88.7ms inference, 1.0ms postprocess per image at shape (1, 3, 640, 640)\n",
      "\n"
     ]
    },
    {
     "name": "stdout",
     "output_type": "stream",
     "text": [
      "Saved frame 242 as fishresult\\frame_242.jpg\n",
      "Saved frame 243 as fishresult\\frame_243.jpg\n"
     ]
    },
    {
     "name": "stderr",
     "output_type": "stream",
     "text": [
      "0: 480x640 1 photoshoot, 89.7ms\n",
      "Speed: 2.0ms preprocess, 89.7ms inference, 0.0ms postprocess per image at shape (1, 3, 640, 640)\n",
      "\n",
      "0: 480x640 1 photoshoot, 101.7ms\n",
      "Speed: 1.0ms preprocess, 101.7ms inference, 1.0ms postprocess per image at shape (1, 3, 640, 640)\n",
      "\n"
     ]
    },
    {
     "name": "stdout",
     "output_type": "stream",
     "text": [
      "Saved frame 244 as fishresult\\frame_244.jpg\n",
      "Saved frame 245 as fishresult\\frame_245.jpg\n"
     ]
    },
    {
     "name": "stderr",
     "output_type": "stream",
     "text": [
      "0: 480x640 1 photoshoot, 107.6ms\n",
      "Speed: 1.3ms preprocess, 107.6ms inference, 0.0ms postprocess per image at shape (1, 3, 640, 640)\n",
      "\n",
      "0: 480x640 1 photoshoot, 94.2ms\n",
      "Speed: 1.0ms preprocess, 94.2ms inference, 0.0ms postprocess per image at shape (1, 3, 640, 640)\n",
      "\n"
     ]
    },
    {
     "name": "stdout",
     "output_type": "stream",
     "text": [
      "Saved frame 246 as fishresult\\frame_246.jpg\n",
      "Saved frame 247 as fishresult\\frame_247.jpg\n"
     ]
    },
    {
     "name": "stderr",
     "output_type": "stream",
     "text": [
      "0: 480x640 1 photoshoot, 88.1ms\n",
      "Speed: 1.0ms preprocess, 88.1ms inference, 0.0ms postprocess per image at shape (1, 3, 640, 640)\n",
      "\n",
      "0: 480x640 3 photoshoots, 104.3ms\n",
      "Speed: 1.0ms preprocess, 104.3ms inference, 1.0ms postprocess per image at shape (1, 3, 640, 640)\n",
      "\n"
     ]
    },
    {
     "name": "stdout",
     "output_type": "stream",
     "text": [
      "Saved frame 248 as fishresult\\frame_248.jpg\n",
      "Saved frame 249 as fishresult\\frame_249.jpg\n"
     ]
    },
    {
     "name": "stderr",
     "output_type": "stream",
     "text": [
      "0: 480x640 1 photoshoot, 109.1ms\n",
      "Speed: 1.0ms preprocess, 109.1ms inference, 1.0ms postprocess per image at shape (1, 3, 640, 640)\n",
      "\n",
      "0: 480x640 1 photoshoot, 101.3ms\n",
      "Speed: 1.0ms preprocess, 101.3ms inference, 1.3ms postprocess per image at shape (1, 3, 640, 640)\n",
      "\n"
     ]
    },
    {
     "name": "stdout",
     "output_type": "stream",
     "text": [
      "Saved frame 250 as fishresult\\frame_250.jpg\n",
      "Saved frame 251 as fishresult\\frame_251.jpg\n"
     ]
    },
    {
     "name": "stderr",
     "output_type": "stream",
     "text": [
      "0: 480x640 1 photoshoot, 96.6ms\n",
      "Speed: 1.0ms preprocess, 96.6ms inference, 0.0ms postprocess per image at shape (1, 3, 640, 640)\n",
      "\n",
      "0: 480x640 1 photoshoot, 91.2ms\n",
      "Speed: 1.0ms preprocess, 91.2ms inference, 1.0ms postprocess per image at shape (1, 3, 640, 640)\n",
      "\n"
     ]
    },
    {
     "name": "stdout",
     "output_type": "stream",
     "text": [
      "Saved frame 252 as fishresult\\frame_252.jpg\n",
      "Saved frame 253 as fishresult\\frame_253.jpg\n"
     ]
    },
    {
     "name": "stderr",
     "output_type": "stream",
     "text": [
      "0: 480x640 1 photoshoot, 96.6ms\n",
      "Speed: 1.0ms preprocess, 96.6ms inference, 0.0ms postprocess per image at shape (1, 3, 640, 640)\n",
      "\n",
      "0: 480x640 1 photoshoot, 86.9ms\n",
      "Speed: 1.0ms preprocess, 86.9ms inference, 1.0ms postprocess per image at shape (1, 3, 640, 640)\n",
      "\n"
     ]
    },
    {
     "name": "stdout",
     "output_type": "stream",
     "text": [
      "Saved frame 254 as fishresult\\frame_254.jpg\n",
      "Saved frame 255 as fishresult\\frame_255.jpg\n"
     ]
    },
    {
     "name": "stderr",
     "output_type": "stream",
     "text": [
      "0: 480x640 2 photoshoots, 99.6ms\n",
      "Speed: 1.0ms preprocess, 99.6ms inference, 1.0ms postprocess per image at shape (1, 3, 640, 640)\n",
      "\n",
      "0: 480x640 1 photoshoot, 98.3ms\n",
      "Speed: 1.0ms preprocess, 98.3ms inference, 0.0ms postprocess per image at shape (1, 3, 640, 640)\n",
      "\n"
     ]
    },
    {
     "name": "stdout",
     "output_type": "stream",
     "text": [
      "Saved frame 256 as fishresult\\frame_256.jpg\n",
      "Saved frame 257 as fishresult\\frame_257.jpg\n"
     ]
    },
    {
     "name": "stderr",
     "output_type": "stream",
     "text": [
      "0: 480x640 2 photoshoots, 120.2ms\n",
      "Speed: 1.1ms preprocess, 120.2ms inference, 0.0ms postprocess per image at shape (1, 3, 640, 640)\n",
      "\n",
      "0: 480x640 2 photoshoots, 97.5ms\n",
      "Speed: 1.0ms preprocess, 97.5ms inference, 1.0ms postprocess per image at shape (1, 3, 640, 640)\n",
      "\n"
     ]
    },
    {
     "name": "stdout",
     "output_type": "stream",
     "text": [
      "Saved frame 258 as fishresult\\frame_258.jpg\n",
      "Saved frame 259 as fishresult\\frame_259.jpg\n"
     ]
    },
    {
     "name": "stderr",
     "output_type": "stream",
     "text": [
      "0: 480x640 1 photoshoot, 113.2ms\n",
      "Speed: 1.0ms preprocess, 113.2ms inference, 0.0ms postprocess per image at shape (1, 3, 640, 640)\n",
      "\n",
      "0: 480x640 1 photoshoot, 89.1ms\n",
      "Speed: 1.6ms preprocess, 89.1ms inference, 1.0ms postprocess per image at shape (1, 3, 640, 640)\n",
      "\n"
     ]
    },
    {
     "name": "stdout",
     "output_type": "stream",
     "text": [
      "Saved frame 260 as fishresult\\frame_260.jpg\n",
      "Saved frame 261 as fishresult\\frame_261.jpg\n"
     ]
    },
    {
     "name": "stderr",
     "output_type": "stream",
     "text": [
      "0: 480x640 1 photoshoot, 86.8ms\n",
      "Speed: 1.0ms preprocess, 86.8ms inference, 0.0ms postprocess per image at shape (1, 3, 640, 640)\n",
      "\n",
      "0: 480x640 1 photoshoot, 93.5ms\n",
      "Speed: 1.1ms preprocess, 93.5ms inference, 1.0ms postprocess per image at shape (1, 3, 640, 640)\n",
      "\n"
     ]
    },
    {
     "name": "stdout",
     "output_type": "stream",
     "text": [
      "Saved frame 262 as fishresult\\frame_262.jpg\n",
      "Saved frame 263 as fishresult\\frame_263.jpg\n"
     ]
    },
    {
     "name": "stderr",
     "output_type": "stream",
     "text": [
      "0: 480x640 3 photoshoots, 85.0ms\n",
      "Speed: 1.0ms preprocess, 85.0ms inference, 0.0ms postprocess per image at shape (1, 3, 640, 640)\n",
      "\n",
      "0: 480x640 1 photoshoot, 89.7ms\n",
      "Speed: 1.0ms preprocess, 89.7ms inference, 1.0ms postprocess per image at shape (1, 3, 640, 640)\n",
      "\n"
     ]
    },
    {
     "name": "stdout",
     "output_type": "stream",
     "text": [
      "Saved frame 264 as fishresult\\frame_264.jpg\n",
      "Saved frame 265 as fishresult\\frame_265.jpg\n"
     ]
    },
    {
     "name": "stderr",
     "output_type": "stream",
     "text": [
      "0: 480x640 1 photoshoot, 91.3ms\n",
      "Speed: 1.0ms preprocess, 91.3ms inference, 1.0ms postprocess per image at shape (1, 3, 640, 640)\n",
      "\n",
      "0: 480x640 1 photoshoot, 91.8ms\n",
      "Speed: 1.0ms preprocess, 91.8ms inference, 0.0ms postprocess per image at shape (1, 3, 640, 640)\n",
      "\n"
     ]
    },
    {
     "name": "stdout",
     "output_type": "stream",
     "text": [
      "Saved frame 266 as fishresult\\frame_266.jpg\n",
      "Saved frame 267 as fishresult\\frame_267.jpg\n"
     ]
    },
    {
     "name": "stderr",
     "output_type": "stream",
     "text": [
      "0: 480x640 1 photoshoot, 88.7ms\n",
      "Speed: 1.0ms preprocess, 88.7ms inference, 1.0ms postprocess per image at shape (1, 3, 640, 640)\n",
      "\n",
      "0: 480x640 2 photoshoots, 90.7ms\n",
      "Speed: 1.0ms preprocess, 90.7ms inference, 0.0ms postprocess per image at shape (1, 3, 640, 640)\n",
      "\n"
     ]
    },
    {
     "name": "stdout",
     "output_type": "stream",
     "text": [
      "Saved frame 268 as fishresult\\frame_268.jpg\n",
      "Saved frame 269 as fishresult\\frame_269.jpg\n"
     ]
    },
    {
     "name": "stderr",
     "output_type": "stream",
     "text": [
      "0: 480x640 2 photoshoots, 96.2ms\n",
      "Speed: 1.2ms preprocess, 96.2ms inference, 0.0ms postprocess per image at shape (1, 3, 640, 640)\n",
      "\n",
      "0: 480x640 1 photoshoot, 86.7ms\n",
      "Speed: 1.0ms preprocess, 86.7ms inference, 0.0ms postprocess per image at shape (1, 3, 640, 640)\n",
      "\n"
     ]
    },
    {
     "name": "stdout",
     "output_type": "stream",
     "text": [
      "Saved frame 270 as fishresult\\frame_270.jpg\n",
      "Saved frame 271 as fishresult\\frame_271.jpg\n"
     ]
    },
    {
     "name": "stderr",
     "output_type": "stream",
     "text": [
      "0: 480x640 2 photoshoots, 113.1ms\n",
      "Speed: 1.0ms preprocess, 113.1ms inference, 1.2ms postprocess per image at shape (1, 3, 640, 640)\n",
      "\n",
      "0: 480x640 3 photoshoots, 89.1ms\n",
      "Speed: 1.1ms preprocess, 89.1ms inference, 1.0ms postprocess per image at shape (1, 3, 640, 640)\n",
      "\n"
     ]
    },
    {
     "name": "stdout",
     "output_type": "stream",
     "text": [
      "Saved frame 272 as fishresult\\frame_272.jpg\n",
      "Saved frame 273 as fishresult\\frame_273.jpg\n"
     ]
    },
    {
     "name": "stderr",
     "output_type": "stream",
     "text": [
      "0: 480x640 2 photoshoots, 116.3ms\n",
      "Speed: 1.1ms preprocess, 116.3ms inference, 1.0ms postprocess per image at shape (1, 3, 640, 640)\n",
      "\n",
      "0: 480x640 2 photoshoots, 104.4ms\n",
      "Speed: 1.5ms preprocess, 104.4ms inference, 1.0ms postprocess per image at shape (1, 3, 640, 640)\n",
      "\n"
     ]
    },
    {
     "name": "stdout",
     "output_type": "stream",
     "text": [
      "Saved frame 274 as fishresult\\frame_274.jpg\n",
      "Saved frame 275 as fishresult\\frame_275.jpg\n"
     ]
    },
    {
     "name": "stderr",
     "output_type": "stream",
     "text": [
      "0: 480x640 2 photoshoots, 96.1ms\n",
      "Speed: 0.0ms preprocess, 96.1ms inference, 1.0ms postprocess per image at shape (1, 3, 640, 640)\n",
      "\n",
      "0: 480x640 2 photoshoots, 116.7ms\n",
      "Speed: 0.9ms preprocess, 116.7ms inference, 1.0ms postprocess per image at shape (1, 3, 640, 640)\n",
      "\n"
     ]
    },
    {
     "name": "stdout",
     "output_type": "stream",
     "text": [
      "Saved frame 276 as fishresult\\frame_276.jpg\n",
      "Saved frame 277 as fishresult\\frame_277.jpg\n"
     ]
    },
    {
     "name": "stderr",
     "output_type": "stream",
     "text": [
      "0: 480x640 1 photoshoot, 124.4ms\n",
      "Speed: 1.0ms preprocess, 124.4ms inference, 1.0ms postprocess per image at shape (1, 3, 640, 640)\n",
      "\n",
      "0: 480x640 2 photoshoots, 118.2ms\n",
      "Speed: 1.0ms preprocess, 118.2ms inference, 0.0ms postprocess per image at shape (1, 3, 640, 640)\n",
      "\n"
     ]
    },
    {
     "name": "stdout",
     "output_type": "stream",
     "text": [
      "Saved frame 278 as fishresult\\frame_278.jpg\n",
      "Saved frame 279 as fishresult\\frame_279.jpg\n"
     ]
    },
    {
     "name": "stderr",
     "output_type": "stream",
     "text": [
      "0: 480x640 2 photoshoots, 131.8ms\n",
      "Speed: 1.0ms preprocess, 131.8ms inference, 1.0ms postprocess per image at shape (1, 3, 640, 640)\n",
      "\n",
      "0: 480x640 1 photoshoot, 115.7ms\n",
      "Speed: 1.0ms preprocess, 115.7ms inference, 0.0ms postprocess per image at shape (1, 3, 640, 640)\n",
      "\n"
     ]
    },
    {
     "name": "stdout",
     "output_type": "stream",
     "text": [
      "Saved frame 280 as fishresult\\frame_280.jpg\n",
      "Saved frame 281 as fishresult\\frame_281.jpg\n"
     ]
    },
    {
     "name": "stderr",
     "output_type": "stream",
     "text": [
      "0: 480x640 1 photoshoot, 118.9ms\n",
      "Speed: 1.0ms preprocess, 118.9ms inference, 0.0ms postprocess per image at shape (1, 3, 640, 640)\n",
      "\n",
      "0: 480x640 1 photoshoot, 120.2ms\n",
      "Speed: 1.2ms preprocess, 120.2ms inference, 1.0ms postprocess per image at shape (1, 3, 640, 640)\n",
      "\n"
     ]
    },
    {
     "name": "stdout",
     "output_type": "stream",
     "text": [
      "Saved frame 282 as fishresult\\frame_282.jpg\n",
      "Saved frame 283 as fishresult\\frame_283.jpg\n"
     ]
    },
    {
     "name": "stderr",
     "output_type": "stream",
     "text": [
      "0: 480x640 1 photoshoot, 106.4ms\n",
      "Speed: 1.0ms preprocess, 106.4ms inference, 1.1ms postprocess per image at shape (1, 3, 640, 640)\n",
      "\n",
      "0: 480x640 1 photoshoot, 100.7ms\n",
      "Speed: 1.0ms preprocess, 100.7ms inference, 1.1ms postprocess per image at shape (1, 3, 640, 640)\n",
      "\n"
     ]
    },
    {
     "name": "stdout",
     "output_type": "stream",
     "text": [
      "Saved frame 284 as fishresult\\frame_284.jpg\n",
      "Saved frame 285 as fishresult\\frame_285.jpg\n"
     ]
    },
    {
     "name": "stderr",
     "output_type": "stream",
     "text": [
      "0: 480x640 1 photoshoot, 89.2ms\n",
      "Speed: 1.0ms preprocess, 89.2ms inference, 0.0ms postprocess per image at shape (1, 3, 640, 640)\n",
      "\n",
      "0: 480x640 2 photoshoots, 102.4ms\n",
      "Speed: 1.0ms preprocess, 102.4ms inference, 1.0ms postprocess per image at shape (1, 3, 640, 640)\n",
      "\n"
     ]
    },
    {
     "name": "stdout",
     "output_type": "stream",
     "text": [
      "Saved frame 286 as fishresult\\frame_286.jpg\n",
      "Saved frame 287 as fishresult\\frame_287.jpg\n"
     ]
    },
    {
     "name": "stderr",
     "output_type": "stream",
     "text": [
      "0: 480x640 2 photoshoots, 97.9ms\n",
      "Speed: 1.0ms preprocess, 97.9ms inference, 1.0ms postprocess per image at shape (1, 3, 640, 640)\n",
      "\n",
      "0: 480x640 1 photoshoot, 97.1ms\n",
      "Speed: 1.0ms preprocess, 97.1ms inference, 1.4ms postprocess per image at shape (1, 3, 640, 640)\n",
      "\n"
     ]
    },
    {
     "name": "stdout",
     "output_type": "stream",
     "text": [
      "Saved frame 288 as fishresult\\frame_288.jpg\n",
      "Saved frame 289 as fishresult\\frame_289.jpg\n"
     ]
    },
    {
     "name": "stderr",
     "output_type": "stream",
     "text": [
      "0: 480x640 1 photoshoot, 111.5ms\n",
      "Speed: 1.0ms preprocess, 111.5ms inference, 0.0ms postprocess per image at shape (1, 3, 640, 640)\n",
      "\n",
      "0: 480x640 (no detections), 114.3ms\n",
      "Speed: 1.2ms preprocess, 114.3ms inference, 0.0ms postprocess per image at shape (1, 3, 640, 640)\n",
      "\n"
     ]
    },
    {
     "name": "stdout",
     "output_type": "stream",
     "text": [
      "Saved frame 290 as fishresult\\frame_290.jpg\n",
      "Saved frame 291 as fishresult\\frame_291.jpg\n"
     ]
    },
    {
     "name": "stderr",
     "output_type": "stream",
     "text": [
      "0: 480x640 2 photoshoots, 94.0ms\n",
      "Speed: 1.2ms preprocess, 94.0ms inference, 1.0ms postprocess per image at shape (1, 3, 640, 640)\n",
      "\n",
      "0: 480x640 3 photoshoots, 97.2ms\n",
      "Speed: 0.0ms preprocess, 97.2ms inference, 0.0ms postprocess per image at shape (1, 3, 640, 640)\n",
      "\n"
     ]
    },
    {
     "name": "stdout",
     "output_type": "stream",
     "text": [
      "Saved frame 292 as fishresult\\frame_292.jpg\n",
      "Saved frame 293 as fishresult\\frame_293.jpg\n"
     ]
    },
    {
     "name": "stderr",
     "output_type": "stream",
     "text": [
      "0: 480x640 1 photoshoot, 90.9ms\n",
      "Speed: 0.0ms preprocess, 90.9ms inference, 1.0ms postprocess per image at shape (1, 3, 640, 640)\n",
      "\n",
      "0: 480x640 3 photoshoots, 94.5ms\n",
      "Speed: 0.0ms preprocess, 94.5ms inference, 1.0ms postprocess per image at shape (1, 3, 640, 640)\n",
      "\n"
     ]
    },
    {
     "name": "stdout",
     "output_type": "stream",
     "text": [
      "Saved frame 294 as fishresult\\frame_294.jpg\n",
      "Saved frame 295 as fishresult\\frame_295.jpg\n"
     ]
    },
    {
     "name": "stderr",
     "output_type": "stream",
     "text": [
      "0: 480x640 1 photoshoot, 96.3ms\n",
      "Speed: 0.9ms preprocess, 96.3ms inference, 0.0ms postprocess per image at shape (1, 3, 640, 640)\n",
      "\n",
      "0: 480x640 2 photoshoots, 116.5ms\n",
      "Speed: 0.0ms preprocess, 116.5ms inference, 0.0ms postprocess per image at shape (1, 3, 640, 640)\n",
      "\n"
     ]
    },
    {
     "name": "stdout",
     "output_type": "stream",
     "text": [
      "Saved frame 296 as fishresult\\frame_296.jpg\n",
      "Saved frame 297 as fishresult\\frame_297.jpg\n"
     ]
    },
    {
     "name": "stderr",
     "output_type": "stream",
     "text": [
      "0: 480x640 2 photoshoots, 119.1ms\n",
      "Speed: 1.1ms preprocess, 119.1ms inference, 0.0ms postprocess per image at shape (1, 3, 640, 640)\n",
      "\n",
      "0: 480x640 1 photoshoot, 112.2ms\n",
      "Speed: 1.0ms preprocess, 112.2ms inference, 1.0ms postprocess per image at shape (1, 3, 640, 640)\n",
      "\n"
     ]
    },
    {
     "name": "stdout",
     "output_type": "stream",
     "text": [
      "Saved frame 298 as fishresult\\frame_298.jpg\n",
      "Saved frame 299 as fishresult\\frame_299.jpg\n"
     ]
    },
    {
     "name": "stderr",
     "output_type": "stream",
     "text": [
      "0: 480x640 2 photoshoots, 107.5ms\n",
      "Speed: 2.1ms preprocess, 107.5ms inference, 1.0ms postprocess per image at shape (1, 3, 640, 640)\n",
      "\n",
      "0: 480x640 1 photoshoot, 126.2ms\n",
      "Speed: 1.1ms preprocess, 126.2ms inference, 1.0ms postprocess per image at shape (1, 3, 640, 640)\n",
      "\n"
     ]
    },
    {
     "name": "stdout",
     "output_type": "stream",
     "text": [
      "Saved frame 300 as fishresult\\frame_300.jpg\n",
      "Saved frame 301 as fishresult\\frame_301.jpg\n"
     ]
    },
    {
     "name": "stderr",
     "output_type": "stream",
     "text": [
      "0: 480x640 2 photoshoots, 111.6ms\n",
      "Speed: 1.0ms preprocess, 111.6ms inference, 0.0ms postprocess per image at shape (1, 3, 640, 640)\n",
      "\n",
      "0: 480x640 (no detections), 103.7ms\n",
      "Speed: 1.0ms preprocess, 103.7ms inference, 0.0ms postprocess per image at shape (1, 3, 640, 640)\n",
      "\n"
     ]
    },
    {
     "name": "stdout",
     "output_type": "stream",
     "text": [
      "Saved frame 302 as fishresult\\frame_302.jpg\n",
      "Saved frame 303 as fishresult\\frame_303.jpg\n"
     ]
    },
    {
     "name": "stderr",
     "output_type": "stream",
     "text": [
      "0: 480x640 1 photoshoot, 109.6ms\n",
      "Speed: 0.9ms preprocess, 109.6ms inference, 0.0ms postprocess per image at shape (1, 3, 640, 640)\n",
      "\n",
      "0: 480x640 1 photoshoot, 106.5ms\n",
      "Speed: 0.0ms preprocess, 106.5ms inference, 1.0ms postprocess per image at shape (1, 3, 640, 640)\n",
      "\n"
     ]
    },
    {
     "name": "stdout",
     "output_type": "stream",
     "text": [
      "Saved frame 304 as fishresult\\frame_304.jpg\n",
      "Saved frame 305 as fishresult\\frame_305.jpg\n"
     ]
    },
    {
     "name": "stderr",
     "output_type": "stream",
     "text": [
      "0: 480x640 1 photoshoot, 103.5ms\n",
      "Speed: 0.0ms preprocess, 103.5ms inference, 1.0ms postprocess per image at shape (1, 3, 640, 640)\n",
      "\n",
      "0: 480x640 1 photoshoot, 96.0ms\n",
      "Speed: 1.1ms preprocess, 96.0ms inference, 0.0ms postprocess per image at shape (1, 3, 640, 640)\n",
      "\n"
     ]
    },
    {
     "name": "stdout",
     "output_type": "stream",
     "text": [
      "Saved frame 306 as fishresult\\frame_306.jpg\n",
      "Saved frame 307 as fishresult\\frame_307.jpg\n"
     ]
    },
    {
     "name": "stderr",
     "output_type": "stream",
     "text": [
      "0: 480x640 2 photoshoots, 111.6ms\n",
      "Speed: 1.4ms preprocess, 111.6ms inference, 0.0ms postprocess per image at shape (1, 3, 640, 640)\n",
      "\n",
      "0: 480x640 1 photoshoot, 96.5ms\n",
      "Speed: 0.0ms preprocess, 96.5ms inference, 1.1ms postprocess per image at shape (1, 3, 640, 640)\n",
      "\n"
     ]
    },
    {
     "name": "stdout",
     "output_type": "stream",
     "text": [
      "Saved frame 308 as fishresult\\frame_308.jpg\n",
      "Saved frame 309 as fishresult\\frame_309.jpg\n"
     ]
    },
    {
     "name": "stderr",
     "output_type": "stream",
     "text": [
      "0: 480x640 2 photoshoots, 128.6ms\n",
      "Speed: 1.0ms preprocess, 128.6ms inference, 1.1ms postprocess per image at shape (1, 3, 640, 640)\n",
      "\n",
      "0: 480x640 2 photoshoots, 101.2ms\n",
      "Speed: 1.1ms preprocess, 101.2ms inference, 0.0ms postprocess per image at shape (1, 3, 640, 640)\n",
      "\n"
     ]
    },
    {
     "name": "stdout",
     "output_type": "stream",
     "text": [
      "Saved frame 310 as fishresult\\frame_310.jpg\n",
      "Saved frame 311 as fishresult\\frame_311.jpg\n"
     ]
    },
    {
     "name": "stderr",
     "output_type": "stream",
     "text": [
      "0: 480x640 2 photoshoots, 102.6ms\n",
      "Speed: 1.0ms preprocess, 102.6ms inference, 1.1ms postprocess per image at shape (1, 3, 640, 640)\n",
      "\n",
      "0: 480x640 1 photoshoot, 110.9ms\n",
      "Speed: 1.5ms preprocess, 110.9ms inference, 1.1ms postprocess per image at shape (1, 3, 640, 640)\n",
      "\n"
     ]
    },
    {
     "name": "stdout",
     "output_type": "stream",
     "text": [
      "Saved frame 312 as fishresult\\frame_312.jpg\n",
      "Saved frame 313 as fishresult\\frame_313.jpg\n"
     ]
    },
    {
     "name": "stderr",
     "output_type": "stream",
     "text": [
      "0: 480x640 (no detections), 106.3ms\n",
      "Speed: 1.0ms preprocess, 106.3ms inference, 0.0ms postprocess per image at shape (1, 3, 640, 640)\n",
      "\n",
      "0: 480x640 1 photoshoot, 124.6ms\n",
      "Speed: 1.0ms preprocess, 124.6ms inference, 1.0ms postprocess per image at shape (1, 3, 640, 640)\n",
      "\n"
     ]
    },
    {
     "name": "stdout",
     "output_type": "stream",
     "text": [
      "Saved frame 314 as fishresult\\frame_314.jpg\n",
      "Saved frame 315 as fishresult\\frame_315.jpg\n"
     ]
    },
    {
     "name": "stderr",
     "output_type": "stream",
     "text": [
      "0: 480x640 2 photoshoots, 92.4ms\n",
      "Speed: 1.0ms preprocess, 92.4ms inference, 0.0ms postprocess per image at shape (1, 3, 640, 640)\n",
      "\n",
      "0: 480x640 3 photoshoots, 98.3ms\n",
      "Speed: 1.1ms preprocess, 98.3ms inference, 0.0ms postprocess per image at shape (1, 3, 640, 640)\n",
      "\n"
     ]
    },
    {
     "name": "stdout",
     "output_type": "stream",
     "text": [
      "Saved frame 316 as fishresult\\frame_316.jpg\n",
      "Saved frame 317 as fishresult\\frame_317.jpg\n"
     ]
    },
    {
     "name": "stderr",
     "output_type": "stream",
     "text": [
      "0: 480x640 2 photoshoots, 131.5ms\n",
      "Speed: 0.0ms preprocess, 131.5ms inference, 0.0ms postprocess per image at shape (1, 3, 640, 640)\n",
      "\n",
      "0: 480x640 2 photoshoots, 97.7ms\n",
      "Speed: 2.2ms preprocess, 97.7ms inference, 1.0ms postprocess per image at shape (1, 3, 640, 640)\n",
      "\n"
     ]
    },
    {
     "name": "stdout",
     "output_type": "stream",
     "text": [
      "Saved frame 318 as fishresult\\frame_318.jpg\n",
      "Saved frame 319 as fishresult\\frame_319.jpg\n"
     ]
    },
    {
     "name": "stderr",
     "output_type": "stream",
     "text": [
      "0: 480x640 3 photoshoots, 126.6ms\n",
      "Speed: 1.0ms preprocess, 126.6ms inference, 0.0ms postprocess per image at shape (1, 3, 640, 640)\n",
      "\n",
      "0: 480x640 1 photoshoot, 105.3ms\n",
      "Speed: 0.0ms preprocess, 105.3ms inference, 1.0ms postprocess per image at shape (1, 3, 640, 640)\n",
      "\n"
     ]
    },
    {
     "name": "stdout",
     "output_type": "stream",
     "text": [
      "Saved frame 320 as fishresult\\frame_320.jpg\n",
      "Saved frame 321 as fishresult\\frame_321.jpg\n"
     ]
    },
    {
     "name": "stderr",
     "output_type": "stream",
     "text": [
      "0: 480x640 2 photoshoots, 102.0ms\n",
      "Speed: 0.0ms preprocess, 102.0ms inference, 0.0ms postprocess per image at shape (1, 3, 640, 640)\n",
      "\n",
      "0: 480x640 2 photoshoots, 89.9ms\n",
      "Speed: 1.0ms preprocess, 89.9ms inference, 0.0ms postprocess per image at shape (1, 3, 640, 640)\n",
      "\n"
     ]
    },
    {
     "name": "stdout",
     "output_type": "stream",
     "text": [
      "Saved frame 322 as fishresult\\frame_322.jpg\n",
      "Saved frame 323 as fishresult\\frame_323.jpg\n"
     ]
    },
    {
     "name": "stderr",
     "output_type": "stream",
     "text": [
      "0: 480x640 3 photoshoots, 97.8ms\n",
      "Speed: 1.1ms preprocess, 97.8ms inference, 0.0ms postprocess per image at shape (1, 3, 640, 640)\n",
      "\n",
      "0: 480x640 1 photoshoot, 119.4ms\n",
      "Speed: 0.0ms preprocess, 119.4ms inference, 0.0ms postprocess per image at shape (1, 3, 640, 640)\n",
      "\n"
     ]
    },
    {
     "name": "stdout",
     "output_type": "stream",
     "text": [
      "Saved frame 324 as fishresult\\frame_324.jpg\n",
      "Saved frame 325 as fishresult\\frame_325.jpg\n"
     ]
    },
    {
     "name": "stderr",
     "output_type": "stream",
     "text": [
      "0: 480x640 1 photoshoot, 113.1ms\n",
      "Speed: 1.0ms preprocess, 113.1ms inference, 0.0ms postprocess per image at shape (1, 3, 640, 640)\n",
      "\n",
      "0: 480x640 3 photoshoots, 99.2ms\n",
      "Speed: 0.0ms preprocess, 99.2ms inference, 0.0ms postprocess per image at shape (1, 3, 640, 640)\n",
      "\n"
     ]
    },
    {
     "name": "stdout",
     "output_type": "stream",
     "text": [
      "Saved frame 326 as fishresult\\frame_326.jpg\n",
      "Saved frame 327 as fishresult\\frame_327.jpg\n"
     ]
    },
    {
     "name": "stderr",
     "output_type": "stream",
     "text": [
      "0: 480x640 2 photoshoots, 117.9ms\n",
      "Speed: 0.0ms preprocess, 117.9ms inference, 1.0ms postprocess per image at shape (1, 3, 640, 640)\n",
      "\n",
      "0: 480x640 1 photoshoot, 94.7ms\n",
      "Speed: 2.0ms preprocess, 94.7ms inference, 0.0ms postprocess per image at shape (1, 3, 640, 640)\n",
      "\n",
      "0: 480x640 3 photoshoots, 91.7ms\n"
     ]
    },
    {
     "name": "stdout",
     "output_type": "stream",
     "text": [
      "Saved frame 328 as fishresult\\frame_328.jpg\n",
      "Saved frame 329 as fishresult\\frame_329.jpg\n"
     ]
    },
    {
     "name": "stderr",
     "output_type": "stream",
     "text": [
      "Speed: 1.0ms preprocess, 91.7ms inference, 1.0ms postprocess per image at shape (1, 3, 640, 640)\n",
      "\n",
      "0: 480x640 1 photoshoot, 92.7ms\n",
      "Speed: 1.0ms preprocess, 92.7ms inference, 1.0ms postprocess per image at shape (1, 3, 640, 640)\n",
      "\n"
     ]
    },
    {
     "name": "stdout",
     "output_type": "stream",
     "text": [
      "Saved frame 330 as fishresult\\frame_330.jpg\n",
      "Saved frame 331 as fishresult\\frame_331.jpg\n"
     ]
    },
    {
     "name": "stderr",
     "output_type": "stream",
     "text": [
      "0: 480x640 2 photoshoots, 95.7ms\n",
      "Speed: 1.0ms preprocess, 95.7ms inference, 1.0ms postprocess per image at shape (1, 3, 640, 640)\n",
      "\n",
      "0: 480x640 1 photoshoot, 102.6ms\n",
      "Speed: 1.0ms preprocess, 102.6ms inference, 1.0ms postprocess per image at shape (1, 3, 640, 640)\n",
      "\n"
     ]
    },
    {
     "name": "stdout",
     "output_type": "stream",
     "text": [
      "Saved frame 332 as fishresult\\frame_332.jpg\n",
      "Saved frame 333 as fishresult\\frame_333.jpg\n"
     ]
    },
    {
     "name": "stderr",
     "output_type": "stream",
     "text": [
      "0: 480x640 1 photoshoot, 103.7ms\n",
      "Speed: 1.0ms preprocess, 103.7ms inference, 1.0ms postprocess per image at shape (1, 3, 640, 640)\n",
      "\n",
      "0: 480x640 1 photoshoot, 90.7ms\n",
      "Speed: 0.0ms preprocess, 90.7ms inference, 1.0ms postprocess per image at shape (1, 3, 640, 640)\n",
      "\n"
     ]
    },
    {
     "name": "stdout",
     "output_type": "stream",
     "text": [
      "Saved frame 334 as fishresult\\frame_334.jpg\n",
      "Saved frame 335 as fishresult\\frame_335.jpg\n"
     ]
    },
    {
     "name": "stderr",
     "output_type": "stream",
     "text": [
      "0: 480x640 2 photoshoots, 128.6ms\n",
      "Speed: 1.0ms preprocess, 128.6ms inference, 0.0ms postprocess per image at shape (1, 3, 640, 640)\n",
      "\n",
      "0: 480x640 1 photoshoot, 108.7ms\n",
      "Speed: 1.0ms preprocess, 108.7ms inference, 1.0ms postprocess per image at shape (1, 3, 640, 640)\n",
      "\n"
     ]
    },
    {
     "name": "stdout",
     "output_type": "stream",
     "text": [
      "Saved frame 336 as fishresult\\frame_336.jpg\n",
      "Saved frame 337 as fishresult\\frame_337.jpg\n"
     ]
    },
    {
     "name": "stderr",
     "output_type": "stream",
     "text": [
      "0: 480x640 1 photoshoot, 96.5ms\n",
      "Speed: 0.0ms preprocess, 96.5ms inference, 1.4ms postprocess per image at shape (1, 3, 640, 640)\n",
      "\n",
      "0: 480x640 1 photoshoot, 111.8ms\n",
      "Speed: 1.2ms preprocess, 111.8ms inference, 0.0ms postprocess per image at shape (1, 3, 640, 640)\n",
      "\n"
     ]
    },
    {
     "name": "stdout",
     "output_type": "stream",
     "text": [
      "Saved frame 338 as fishresult\\frame_338.jpg\n",
      "Saved frame 339 as fishresult\\frame_339.jpg\n"
     ]
    },
    {
     "name": "stderr",
     "output_type": "stream",
     "text": [
      "0: 480x640 1 photoshoot, 106.5ms\n",
      "Speed: 1.1ms preprocess, 106.5ms inference, 0.0ms postprocess per image at shape (1, 3, 640, 640)\n",
      "\n",
      "0: 480x640 1 photoshoot, 93.8ms\n",
      "Speed: 1.0ms preprocess, 93.8ms inference, 0.0ms postprocess per image at shape (1, 3, 640, 640)\n",
      "\n"
     ]
    },
    {
     "name": "stdout",
     "output_type": "stream",
     "text": [
      "Saved frame 340 as fishresult\\frame_340.jpg\n",
      "Saved frame 341 as fishresult\\frame_341.jpg\n"
     ]
    },
    {
     "name": "stderr",
     "output_type": "stream",
     "text": [
      "0: 480x640 1 photoshoot, 94.2ms\n",
      "Speed: 0.0ms preprocess, 94.2ms inference, 0.0ms postprocess per image at shape (1, 3, 640, 640)\n",
      "\n",
      "0: 480x640 1 photoshoot, 94.1ms\n",
      "Speed: 1.0ms preprocess, 94.1ms inference, 0.0ms postprocess per image at shape (1, 3, 640, 640)\n",
      "\n"
     ]
    },
    {
     "name": "stdout",
     "output_type": "stream",
     "text": [
      "Saved frame 342 as fishresult\\frame_342.jpg\n",
      "Saved frame 343 as fishresult\\frame_343.jpg\n"
     ]
    },
    {
     "name": "stderr",
     "output_type": "stream",
     "text": [
      "0: 480x640 1 photoshoot, 93.1ms\n",
      "Speed: 0.0ms preprocess, 93.1ms inference, 1.1ms postprocess per image at shape (1, 3, 640, 640)\n",
      "\n",
      "0: 480x640 2 photoshoots, 95.6ms\n",
      "Speed: 1.5ms preprocess, 95.6ms inference, 0.0ms postprocess per image at shape (1, 3, 640, 640)\n",
      "\n"
     ]
    },
    {
     "name": "stdout",
     "output_type": "stream",
     "text": [
      "Saved frame 344 as fishresult\\frame_344.jpg\n",
      "Saved frame 345 as fishresult\\frame_345.jpg\n"
     ]
    },
    {
     "name": "stderr",
     "output_type": "stream",
     "text": [
      "0: 480x640 1 photoshoot, 110.7ms\n",
      "Speed: 1.4ms preprocess, 110.7ms inference, 0.0ms postprocess per image at shape (1, 3, 640, 640)\n",
      "\n",
      "0: 480x640 1 photoshoot, 94.2ms\n",
      "Speed: 0.0ms preprocess, 94.2ms inference, 1.0ms postprocess per image at shape (1, 3, 640, 640)\n",
      "\n"
     ]
    },
    {
     "name": "stdout",
     "output_type": "stream",
     "text": [
      "Saved frame 346 as fishresult\\frame_346.jpg\n",
      "Saved frame 347 as fishresult\\frame_347.jpg\n"
     ]
    },
    {
     "name": "stderr",
     "output_type": "stream",
     "text": [
      "0: 480x640 3 photoshoots, 92.3ms\n",
      "Speed: 0.0ms preprocess, 92.3ms inference, 1.0ms postprocess per image at shape (1, 3, 640, 640)\n",
      "\n",
      "0: 480x640 2 photoshoots, 99.2ms\n",
      "Speed: 1.2ms preprocess, 99.2ms inference, 0.0ms postprocess per image at shape (1, 3, 640, 640)\n",
      "\n"
     ]
    },
    {
     "name": "stdout",
     "output_type": "stream",
     "text": [
      "Saved frame 348 as fishresult\\frame_348.jpg\n",
      "Saved frame 349 as fishresult\\frame_349.jpg\n"
     ]
    },
    {
     "name": "stderr",
     "output_type": "stream",
     "text": [
      "0: 480x640 1 photoshoot, 116.6ms\n",
      "Speed: 1.0ms preprocess, 116.6ms inference, 1.2ms postprocess per image at shape (1, 3, 640, 640)\n",
      "\n",
      "0: 480x640 1 photoshoot, 117.1ms\n",
      "Speed: 1.0ms preprocess, 117.1ms inference, 0.0ms postprocess per image at shape (1, 3, 640, 640)\n",
      "\n"
     ]
    },
    {
     "name": "stdout",
     "output_type": "stream",
     "text": [
      "Saved frame 350 as fishresult\\frame_350.jpg\n",
      "Saved frame 351 as fishresult\\frame_351.jpg\n"
     ]
    },
    {
     "name": "stderr",
     "output_type": "stream",
     "text": [
      "0: 480x640 2 photoshoots, 119.5ms\n",
      "Speed: 1.0ms preprocess, 119.5ms inference, 0.0ms postprocess per image at shape (1, 3, 640, 640)\n",
      "\n",
      "0: 480x640 1 photoshoot, 107.8ms\n",
      "Speed: 0.0ms preprocess, 107.8ms inference, 0.0ms postprocess per image at shape (1, 3, 640, 640)\n",
      "\n"
     ]
    },
    {
     "name": "stdout",
     "output_type": "stream",
     "text": [
      "Saved frame 352 as fishresult\\frame_352.jpg\n",
      "Saved frame 353 as fishresult\\frame_353.jpg\n"
     ]
    },
    {
     "name": "stderr",
     "output_type": "stream",
     "text": [
      "0: 480x640 1 photoshoot, 93.1ms\n",
      "Speed: 1.0ms preprocess, 93.1ms inference, 1.0ms postprocess per image at shape (1, 3, 640, 640)\n",
      "\n",
      "0: 480x640 2 photoshoots, 90.1ms\n",
      "Speed: 1.3ms preprocess, 90.1ms inference, 1.0ms postprocess per image at shape (1, 3, 640, 640)\n",
      "\n"
     ]
    },
    {
     "name": "stdout",
     "output_type": "stream",
     "text": [
      "Saved frame 354 as fishresult\\frame_354.jpg\n",
      "Saved frame 355 as fishresult\\frame_355.jpg\n"
     ]
    },
    {
     "name": "stderr",
     "output_type": "stream",
     "text": [
      "0: 480x640 1 photoshoot, 97.3ms\n",
      "Speed: 1.0ms preprocess, 97.3ms inference, 1.0ms postprocess per image at shape (1, 3, 640, 640)\n",
      "\n",
      "0: 480x640 2 photoshoots, 107.9ms\n",
      "Speed: 1.4ms preprocess, 107.9ms inference, 0.0ms postprocess per image at shape (1, 3, 640, 640)\n",
      "\n"
     ]
    },
    {
     "name": "stdout",
     "output_type": "stream",
     "text": [
      "Saved frame 356 as fishresult\\frame_356.jpg\n",
      "Saved frame 357 as fishresult\\frame_357.jpg\n"
     ]
    },
    {
     "name": "stderr",
     "output_type": "stream",
     "text": [
      "0: 480x640 2 photoshoots, 92.5ms\n",
      "Speed: 1.0ms preprocess, 92.5ms inference, 0.0ms postprocess per image at shape (1, 3, 640, 640)\n",
      "\n",
      "0: 480x640 1 photoshoot, 110.9ms\n",
      "Speed: 1.0ms preprocess, 110.9ms inference, 1.5ms postprocess per image at shape (1, 3, 640, 640)\n",
      "\n"
     ]
    },
    {
     "name": "stdout",
     "output_type": "stream",
     "text": [
      "Saved frame 358 as fishresult\\frame_358.jpg\n",
      "Saved frame 359 as fishresult\\frame_359.jpg\n"
     ]
    },
    {
     "name": "stderr",
     "output_type": "stream",
     "text": [
      "0: 480x640 1 photoshoot, 139.3ms\n",
      "Speed: 1.0ms preprocess, 139.3ms inference, 1.0ms postprocess per image at shape (1, 3, 640, 640)\n",
      "\n",
      "0: 480x640 1 photoshoot, 104.7ms\n",
      "Speed: 1.0ms preprocess, 104.7ms inference, 0.0ms postprocess per image at shape (1, 3, 640, 640)\n",
      "\n"
     ]
    },
    {
     "name": "stdout",
     "output_type": "stream",
     "text": [
      "Saved frame 360 as fishresult\\frame_360.jpg\n",
      "Saved frame 361 as fishresult\\frame_361.jpg\n"
     ]
    },
    {
     "name": "stderr",
     "output_type": "stream",
     "text": [
      "0: 480x640 1 photoshoot, 98.7ms\n",
      "Speed: 0.0ms preprocess, 98.7ms inference, 1.0ms postprocess per image at shape (1, 3, 640, 640)\n",
      "\n",
      "0: 480x640 1 photoshoot, 101.9ms\n",
      "Speed: 1.0ms preprocess, 101.9ms inference, 1.2ms postprocess per image at shape (1, 3, 640, 640)\n",
      "\n"
     ]
    },
    {
     "name": "stdout",
     "output_type": "stream",
     "text": [
      "Saved frame 362 as fishresult\\frame_362.jpg\n",
      "Saved frame 363 as fishresult\\frame_363.jpg\n"
     ]
    },
    {
     "name": "stderr",
     "output_type": "stream",
     "text": [
      "0: 640x480 1 photoshoot, 120.0ms\n",
      "Speed: 1.0ms preprocess, 120.0ms inference, 1.0ms postprocess per image at shape (1, 3, 640, 640)\n",
      "\n",
      "0: 640x480 1 photoshoot, 101.8ms\n",
      "Speed: 1.0ms preprocess, 101.8ms inference, 1.1ms postprocess per image at shape (1, 3, 640, 640)\n",
      "\n"
     ]
    },
    {
     "name": "stdout",
     "output_type": "stream",
     "text": [
      "Saved frame 364 as fishresult\\frame_364.jpg\n",
      "Saved frame 365 as fishresult\\frame_365.jpg\n"
     ]
    },
    {
     "name": "stderr",
     "output_type": "stream",
     "text": [
      "0: 640x480 1 photoshoot, 101.8ms\n",
      "Speed: 1.0ms preprocess, 101.8ms inference, 1.0ms postprocess per image at shape (1, 3, 640, 640)\n",
      "\n",
      "0: 640x480 1 photoshoot, 98.2ms\n",
      "Speed: 0.0ms preprocess, 98.2ms inference, 0.0ms postprocess per image at shape (1, 3, 640, 640)\n",
      "\n"
     ]
    },
    {
     "name": "stdout",
     "output_type": "stream",
     "text": [
      "Saved frame 366 as fishresult\\frame_366.jpg\n",
      "Saved frame 367 as fishresult\\frame_367.jpg\n"
     ]
    },
    {
     "name": "stderr",
     "output_type": "stream",
     "text": [
      "0: 640x480 1 photoshoot, 94.5ms\n",
      "Speed: 1.2ms preprocess, 94.5ms inference, 1.0ms postprocess per image at shape (1, 3, 640, 640)\n",
      "\n",
      "0: 480x640 (no detections), 98.1ms\n",
      "Speed: 1.1ms preprocess, 98.1ms inference, 0.0ms postprocess per image at shape (1, 3, 640, 640)\n",
      "\n"
     ]
    },
    {
     "name": "stdout",
     "output_type": "stream",
     "text": [
      "Saved frame 368 as fishresult\\frame_368.jpg\n",
      "Saved frame 369 as fishresult\\frame_369.jpg\n"
     ]
    },
    {
     "name": "stderr",
     "output_type": "stream",
     "text": [
      "0: 640x608 1 photoshoot, 134.2ms\n",
      "Speed: 1.0ms preprocess, 134.2ms inference, 0.0ms postprocess per image at shape (1, 3, 640, 640)\n",
      "\n",
      "0: 384x640 (no detections), 84.5ms\n",
      "Speed: 2.0ms preprocess, 84.5ms inference, 0.0ms postprocess per image at shape (1, 3, 640, 640)\n",
      "\n",
      "0: 384x640 (no detections), 80.3ms\n"
     ]
    },
    {
     "name": "stdout",
     "output_type": "stream",
     "text": [
      "Saved frame 370 as fishresult\\frame_370.jpg\n",
      "Saved frame 371 as fishresult\\frame_371.jpg\n"
     ]
    },
    {
     "name": "stderr",
     "output_type": "stream",
     "text": [
      "Speed: 0.0ms preprocess, 80.3ms inference, 0.0ms postprocess per image at shape (1, 3, 640, 640)\n",
      "\n",
      "0: 384x640 (no detections), 77.6ms\n",
      "Speed: 1.1ms preprocess, 77.6ms inference, 0.0ms postprocess per image at shape (1, 3, 640, 640)\n",
      "\n",
      "0: 384x640 (no detections), 77.8ms\n"
     ]
    },
    {
     "name": "stdout",
     "output_type": "stream",
     "text": [
      "Saved frame 372 as fishresult\\frame_372.jpg\n",
      "Saved frame 373 as fishresult\\frame_373.jpg\n"
     ]
    },
    {
     "name": "stderr",
     "output_type": "stream",
     "text": [
      "Speed: 1.1ms preprocess, 77.8ms inference, 1.0ms postprocess per image at shape (1, 3, 640, 640)\n",
      "\n",
      "0: 384x640 (no detections), 85.2ms\n",
      "Speed: 1.2ms preprocess, 85.2ms inference, 0.0ms postprocess per image at shape (1, 3, 640, 640)\n",
      "\n"
     ]
    },
    {
     "name": "stdout",
     "output_type": "stream",
     "text": [
      "Saved frame 374 as fishresult\\frame_374.jpg\n",
      "Saved frame 375 as fishresult\\frame_375.jpg\n"
     ]
    },
    {
     "name": "stderr",
     "output_type": "stream",
     "text": [
      "0: 640x384 1 photoshoot, 90.9ms\n",
      "Speed: 1.0ms preprocess, 90.9ms inference, 1.0ms postprocess per image at shape (1, 3, 640, 640)\n",
      "\n",
      "0: 640x384 1 photoshoot, 80.3ms\n",
      "Speed: 1.0ms preprocess, 80.3ms inference, 1.0ms postprocess per image at shape (1, 3, 640, 640)\n",
      "\n"
     ]
    },
    {
     "name": "stdout",
     "output_type": "stream",
     "text": [
      "Saved frame 376 as fishresult\\frame_376.jpg\n",
      "Saved frame 377 as fishresult\\frame_377.jpg\n"
     ]
    },
    {
     "name": "stderr",
     "output_type": "stream",
     "text": [
      "0: 640x544 1 photoshoot, 111.0ms\n",
      "Speed: 0.0ms preprocess, 111.0ms inference, 1.0ms postprocess per image at shape (1, 3, 640, 640)\n",
      "\n",
      "0: 640x544 1 photoshoot, 102.4ms\n",
      "Speed: 1.0ms preprocess, 102.4ms inference, 2.0ms postprocess per image at shape (1, 3, 640, 640)\n",
      "\n"
     ]
    },
    {
     "name": "stdout",
     "output_type": "stream",
     "text": [
      "Saved frame 378 as fishresult\\frame_378.jpg\n",
      "Saved frame 379 as fishresult\\frame_379.jpg\n"
     ]
    },
    {
     "name": "stderr",
     "output_type": "stream",
     "text": [
      "0: 480x640 (no detections), 97.6ms\n",
      "Speed: 1.0ms preprocess, 97.6ms inference, 0.0ms postprocess per image at shape (1, 3, 640, 640)\n",
      "\n",
      "0: 640x640 1 photoshoot, 128.6ms\n",
      "Speed: 1.1ms preprocess, 128.6ms inference, 1.0ms postprocess per image at shape (1, 3, 640, 640)\n",
      "\n"
     ]
    },
    {
     "name": "stdout",
     "output_type": "stream",
     "text": [
      "Saved frame 380 as fishresult\\frame_380.jpg\n",
      "Saved frame 381 as fishresult\\frame_381.jpg\n"
     ]
    },
    {
     "name": "stderr",
     "output_type": "stream",
     "text": [
      "0: 640x640 1 photoshoot, 130.8ms\n",
      "Speed: 1.0ms preprocess, 130.8ms inference, 0.0ms postprocess per image at shape (1, 3, 640, 640)\n",
      "\n",
      "0: 640x640 1 photoshoot, 123.6ms\n",
      "Speed: 1.0ms preprocess, 123.6ms inference, 2.0ms postprocess per image at shape (1, 3, 640, 640)\n",
      "\n"
     ]
    },
    {
     "name": "stdout",
     "output_type": "stream",
     "text": [
      "Saved frame 382 as fishresult\\frame_382.jpg\n",
      "Saved frame 383 as fishresult\\frame_383.jpg\n"
     ]
    },
    {
     "name": "stderr",
     "output_type": "stream",
     "text": [
      "0: 448x640 1 photoshoot, 92.5ms\n",
      "Speed: 1.0ms preprocess, 92.5ms inference, 1.0ms postprocess per image at shape (1, 3, 640, 640)\n",
      "\n",
      "0: 448x640 1 photoshoot, 91.6ms\n",
      "Speed: 1.1ms preprocess, 91.6ms inference, 1.0ms postprocess per image at shape (1, 3, 640, 640)\n",
      "\n"
     ]
    },
    {
     "name": "stdout",
     "output_type": "stream",
     "text": [
      "Saved frame 384 as fishresult\\frame_384.jpg\n",
      "Saved frame 385 as fishresult\\frame_385.jpg\n"
     ]
    },
    {
     "name": "stderr",
     "output_type": "stream",
     "text": [
      "0: 448x640 1 photoshoot, 106.7ms\n",
      "Speed: 1.0ms preprocess, 106.7ms inference, 1.0ms postprocess per image at shape (1, 3, 640, 640)\n",
      "\n",
      "0: 448x640 1 photoshoot, 106.8ms\n",
      "Speed: 0.9ms preprocess, 106.8ms inference, 0.0ms postprocess per image at shape (1, 3, 640, 640)\n",
      "\n"
     ]
    },
    {
     "name": "stdout",
     "output_type": "stream",
     "text": [
      "Saved frame 386 as fishresult\\frame_386.jpg\n",
      "Saved frame 387 as fishresult\\frame_387.jpg\n"
     ]
    },
    {
     "name": "stderr",
     "output_type": "stream",
     "text": [
      "0: 640x640 1 photoshoot, 139.8ms\n",
      "Speed: 0.0ms preprocess, 139.8ms inference, 1.0ms postprocess per image at shape (1, 3, 640, 640)\n",
      "\n",
      "0: 640x640 1 photoshoot, 127.7ms\n",
      "Speed: 1.0ms preprocess, 127.7ms inference, 2.0ms postprocess per image at shape (1, 3, 640, 640)\n",
      "\n"
     ]
    },
    {
     "name": "stdout",
     "output_type": "stream",
     "text": [
      "Saved frame 388 as fishresult\\frame_388.jpg\n",
      "Saved frame 389 as fishresult\\frame_389.jpg\n"
     ]
    },
    {
     "name": "stderr",
     "output_type": "stream",
     "text": [
      "0: 640x640 1 photoshoot, 133.4ms\n",
      "Speed: 2.0ms preprocess, 133.4ms inference, 1.3ms postprocess per image at shape (1, 3, 640, 640)\n",
      "\n",
      "0: 480x640 2 photoshoots, 109.7ms\n",
      "Speed: 2.0ms preprocess, 109.7ms inference, 0.0ms postprocess per image at shape (1, 3, 640, 640)\n",
      "\n"
     ]
    },
    {
     "name": "stdout",
     "output_type": "stream",
     "text": [
      "Saved frame 390 as fishresult\\frame_390.jpg\n",
      "Saved frame 391 as fishresult\\frame_391.jpg\n"
     ]
    },
    {
     "name": "stderr",
     "output_type": "stream",
     "text": [
      "0: 384x640 (no detections), 96.6ms\n",
      "Speed: 1.4ms preprocess, 96.6ms inference, 0.0ms postprocess per image at shape (1, 3, 640, 640)\n",
      "\n",
      "0: 384x640 (no detections), 108.2ms\n",
      "Speed: 1.3ms preprocess, 108.2ms inference, 1.0ms postprocess per image at shape (1, 3, 640, 640)\n",
      "\n"
     ]
    },
    {
     "name": "stdout",
     "output_type": "stream",
     "text": [
      "Saved frame 392 as fishresult\\frame_392.jpg\n",
      "Saved frame 393 as fishresult\\frame_393.jpg\n"
     ]
    },
    {
     "name": "stderr",
     "output_type": "stream",
     "text": [
      "0: 608x640 (no detections), 146.8ms\n",
      "Speed: 2.3ms preprocess, 146.8ms inference, 0.0ms postprocess per image at shape (1, 3, 640, 640)\n",
      "\n",
      "0: 608x640 (no detections), 123.0ms\n",
      "Speed: 1.0ms preprocess, 123.0ms inference, 1.0ms postprocess per image at shape (1, 3, 640, 640)\n",
      "\n"
     ]
    },
    {
     "name": "stdout",
     "output_type": "stream",
     "text": [
      "Saved frame 394 as fishresult\\frame_394.jpg\n",
      "Saved frame 395 as fishresult\\frame_395.jpg\n"
     ]
    },
    {
     "name": "stderr",
     "output_type": "stream",
     "text": [
      "0: 640x320 (no detections), 101.7ms\n",
      "Speed: 0.0ms preprocess, 101.7ms inference, 1.2ms postprocess per image at shape (1, 3, 640, 640)\n",
      "\n",
      "0: 640x320 (no detections), 89.8ms\n",
      "Speed: 1.0ms preprocess, 89.8ms inference, 1.0ms postprocess per image at shape (1, 3, 640, 640)\n",
      "\n"
     ]
    },
    {
     "name": "stdout",
     "output_type": "stream",
     "text": [
      "Saved frame 396 as fishresult\\frame_396.jpg\n",
      "Saved frame 397 as fishresult\\frame_397.jpg\n"
     ]
    },
    {
     "name": "stderr",
     "output_type": "stream",
     "text": [
      "0: 640x640 (no detections), 126.1ms\n",
      "Speed: 0.0ms preprocess, 126.1ms inference, 0.0ms postprocess per image at shape (1, 3, 640, 640)\n",
      "\n",
      "0: 384x640 (no detections), 86.7ms\n",
      "Speed: 2.1ms preprocess, 86.7ms inference, 0.0ms postprocess per image at shape (1, 3, 640, 640)\n",
      "\n",
      "0: 384x640 (no detections), 83.3ms\n"
     ]
    },
    {
     "name": "stdout",
     "output_type": "stream",
     "text": [
      "Saved frame 398 as fishresult\\frame_398.jpg\n",
      "Saved frame 399 as fishresult\\frame_399.jpg\n"
     ]
    },
    {
     "name": "stderr",
     "output_type": "stream",
     "text": [
      "Speed: 0.0ms preprocess, 83.3ms inference, 0.0ms postprocess per image at shape (1, 3, 640, 640)\n",
      "\n",
      "0: 640x640 (no detections), 144.1ms\n",
      "Speed: 1.1ms preprocess, 144.1ms inference, 1.1ms postprocess per image at shape (1, 3, 640, 640)\n",
      "\n"
     ]
    },
    {
     "name": "stdout",
     "output_type": "stream",
     "text": [
      "Saved frame 400 as fishresult\\frame_400.jpg\n",
      "Saved frame 401 as fishresult\\frame_401.jpg\n"
     ]
    },
    {
     "name": "stderr",
     "output_type": "stream",
     "text": [
      "0: 480x640 2 photoshoots, 117.1ms\n",
      "Speed: 0.9ms preprocess, 117.1ms inference, 1.0ms postprocess per image at shape (1, 3, 640, 640)\n",
      "\n",
      "0: 480x640 (no detections), 106.5ms\n",
      "Speed: 2.0ms preprocess, 106.5ms inference, 1.3ms postprocess per image at shape (1, 3, 640, 640)\n",
      "\n"
     ]
    },
    {
     "name": "stdout",
     "output_type": "stream",
     "text": [
      "Saved frame 402 as fishresult\\frame_402.jpg\n",
      "Saved frame 403 as fishresult\\frame_403.jpg\n"
     ]
    },
    {
     "name": "stderr",
     "output_type": "stream",
     "text": [
      "0: 640x640 (no detections), 141.5ms\n",
      "Speed: 1.0ms preprocess, 141.5ms inference, 0.0ms postprocess per image at shape (1, 3, 640, 640)\n",
      "\n",
      "0: 448x640 (no detections), 130.9ms\n",
      "Speed: 0.0ms preprocess, 130.9ms inference, 1.0ms postprocess per image at shape (1, 3, 640, 640)\n",
      "\n"
     ]
    },
    {
     "name": "stdout",
     "output_type": "stream",
     "text": [
      "Saved frame 404 as fishresult\\frame_404.jpg\n",
      "Saved frame 405 as fishresult\\frame_405.jpg\n"
     ]
    },
    {
     "name": "stderr",
     "output_type": "stream",
     "text": [
      "0: 640x544 1 photoshoot, 114.0ms\n",
      "Speed: 1.1ms preprocess, 114.0ms inference, 1.0ms postprocess per image at shape (1, 3, 640, 640)\n",
      "\n",
      "0: 640x544 1 photoshoot, 115.2ms\n",
      "Speed: 1.0ms preprocess, 115.2ms inference, 1.0ms postprocess per image at shape (1, 3, 640, 640)\n",
      "\n"
     ]
    },
    {
     "name": "stdout",
     "output_type": "stream",
     "text": [
      "Saved frame 406 as fishresult\\frame_406.jpg\n",
      "Saved frame 407 as fishresult\\frame_407.jpg\n"
     ]
    },
    {
     "name": "stderr",
     "output_type": "stream",
     "text": [
      "0: 640x544 1 photoshoot, 129.2ms\n",
      "Speed: 1.0ms preprocess, 129.2ms inference, 1.0ms postprocess per image at shape (1, 3, 640, 640)\n",
      "\n",
      "0: 640x544 1 photoshoot, 108.5ms\n",
      "Speed: 0.0ms preprocess, 108.5ms inference, 1.0ms postprocess per image at shape (1, 3, 640, 640)\n",
      "\n"
     ]
    },
    {
     "name": "stdout",
     "output_type": "stream",
     "text": [
      "Saved frame 408 as fishresult\\frame_408.jpg\n",
      "Saved frame 409 as fishresult\\frame_409.jpg\n"
     ]
    },
    {
     "name": "stderr",
     "output_type": "stream",
     "text": [
      "0: 640x608 (no detections), 123.3ms\n",
      "Speed: 1.0ms preprocess, 123.3ms inference, 0.0ms postprocess per image at shape (1, 3, 640, 640)\n",
      "\n",
      "0: 640x608 (no detections), 120.3ms\n",
      "Speed: 0.0ms preprocess, 120.3ms inference, 0.0ms postprocess per image at shape (1, 3, 640, 640)\n",
      "\n"
     ]
    },
    {
     "name": "stdout",
     "output_type": "stream",
     "text": [
      "Saved frame 410 as fishresult\\frame_410.jpg\n",
      "Saved frame 411 as fishresult\\frame_411.jpg\n"
     ]
    },
    {
     "name": "stderr",
     "output_type": "stream",
     "text": [
      "0: 640x608 (no detections), 110.9ms\n",
      "Speed: 0.0ms preprocess, 110.9ms inference, 0.0ms postprocess per image at shape (1, 3, 640, 640)\n",
      "\n",
      "0: 640x608 (no detections), 110.8ms\n",
      "Speed: 0.0ms preprocess, 110.8ms inference, 0.0ms postprocess per image at shape (1, 3, 640, 640)\n",
      "\n"
     ]
    },
    {
     "name": "stdout",
     "output_type": "stream",
     "text": [
      "Saved frame 412 as fishresult\\frame_412.jpg\n",
      "Saved frame 413 as fishresult\\frame_413.jpg\n"
     ]
    },
    {
     "name": "stderr",
     "output_type": "stream",
     "text": [
      "0: 480x640 (no detections), 110.7ms\n",
      "Speed: 1.0ms preprocess, 110.7ms inference, 0.0ms postprocess per image at shape (1, 3, 640, 640)\n",
      "\n",
      "0: 640x640 (no detections), 114.8ms\n",
      "Speed: 1.0ms preprocess, 114.8ms inference, 0.0ms postprocess per image at shape (1, 3, 640, 640)\n",
      "\n"
     ]
    },
    {
     "name": "stdout",
     "output_type": "stream",
     "text": [
      "Saved frame 414 as fishresult\\frame_414.jpg\n",
      "Saved frame 415 as fishresult\\frame_415.jpg\n"
     ]
    },
    {
     "name": "stderr",
     "output_type": "stream",
     "text": [
      "0: 640x640 (no detections), 128.9ms\n",
      "Speed: 1.0ms preprocess, 128.9ms inference, 0.0ms postprocess per image at shape (1, 3, 640, 640)\n"
     ]
    },
    {
     "ename": "OverflowError",
     "evalue": "cannot convert float infinity to integer",
     "output_type": "error",
     "traceback": [
      "\u001b[1;31m---------------------------------------------------------------------------\u001b[0m",
      "\u001b[1;31mOverflowError\u001b[0m                             Traceback (most recent call last)",
      "\u001b[1;32m~\\AppData\\Local\\Temp\\ipykernel_4448\\3035883760.py\u001b[0m in \u001b[0;36m<module>\u001b[1;34m\u001b[0m\n\u001b[0;32m     97\u001b[0m \u001b[1;33m\u001b[0m\u001b[0m\n\u001b[0;32m     98\u001b[0m \u001b[0mdetector\u001b[0m \u001b[1;33m=\u001b[0m \u001b[0mObjectDetection\u001b[0m\u001b[1;33m(\u001b[0m\u001b[0mimage_directory\u001b[0m\u001b[1;33m=\u001b[0m\u001b[1;34mr'C:\\Users\\USER\\AI\\ultralytics\\detectingphotoshootv23\\test\\images'\u001b[0m\u001b[1;33m,\u001b[0m \u001b[0mkeyframe_interval\u001b[0m\u001b[1;33m=\u001b[0m\u001b[1;36m1\u001b[0m\u001b[1;33m)\u001b[0m\u001b[1;33m\u001b[0m\u001b[1;33m\u001b[0m\u001b[0m\n\u001b[1;32m---> 99\u001b[1;33m \u001b[0mdetector\u001b[0m\u001b[1;33m(\u001b[0m\u001b[1;33m)\u001b[0m\u001b[1;33m\u001b[0m\u001b[1;33m\u001b[0m\u001b[0m\n\u001b[0m",
      "\u001b[1;32m~\\AppData\\Local\\Temp\\ipykernel_4448\\3035883760.py\u001b[0m in \u001b[0;36m__call__\u001b[1;34m(self)\u001b[0m\n\u001b[0;32m     70\u001b[0m                         \u001b[0mfps\u001b[0m \u001b[1;33m=\u001b[0m \u001b[0mfloat\u001b[0m\u001b[1;33m(\u001b[0m\u001b[1;34m'inf'\u001b[0m\u001b[1;33m)\u001b[0m\u001b[1;33m\u001b[0m\u001b[1;33m\u001b[0m\u001b[0m\n\u001b[0;32m     71\u001b[0m \u001b[1;33m\u001b[0m\u001b[0m\n\u001b[1;32m---> 72\u001b[1;33m                     \u001b[0mcv2\u001b[0m\u001b[1;33m.\u001b[0m\u001b[0mputText\u001b[0m\u001b[1;33m(\u001b[0m\u001b[0mframe\u001b[0m\u001b[1;33m,\u001b[0m \u001b[1;34mf'FPS: {int(fps)}'\u001b[0m\u001b[1;33m,\u001b[0m \u001b[1;33m(\u001b[0m\u001b[1;36m10\u001b[0m\u001b[1;33m,\u001b[0m \u001b[1;36m50\u001b[0m\u001b[1;33m)\u001b[0m\u001b[1;33m,\u001b[0m \u001b[0mcv2\u001b[0m\u001b[1;33m.\u001b[0m\u001b[0mFONT_HERSHEY_SIMPLEX\u001b[0m\u001b[1;33m,\u001b[0m \u001b[1;36m0.5\u001b[0m\u001b[1;33m,\u001b[0m \u001b[1;33m(\u001b[0m\u001b[1;36m0\u001b[0m\u001b[1;33m,\u001b[0m \u001b[1;36m255\u001b[0m\u001b[1;33m,\u001b[0m \u001b[1;36m0\u001b[0m\u001b[1;33m)\u001b[0m\u001b[1;33m,\u001b[0m \u001b[1;36m2\u001b[0m\u001b[1;33m)\u001b[0m\u001b[1;33m\u001b[0m\u001b[1;33m\u001b[0m\u001b[0m\n\u001b[0m\u001b[0;32m     73\u001b[0m \u001b[1;33m\u001b[0m\u001b[0m\n\u001b[0;32m     74\u001b[0m                     \u001b[0mcv2\u001b[0m\u001b[1;33m.\u001b[0m\u001b[0mimshow\u001b[0m\u001b[1;33m(\u001b[0m\u001b[1;34m'YOLOv8 Detection'\u001b[0m\u001b[1;33m,\u001b[0m \u001b[0mframe\u001b[0m\u001b[1;33m)\u001b[0m\u001b[1;33m\u001b[0m\u001b[1;33m\u001b[0m\u001b[0m\n",
      "\u001b[1;31mOverflowError\u001b[0m: cannot convert float infinity to integer"
     ]
    }
   ],
   "source": [
    "from ultralytics import YOLO\n",
    "import cv2\n",
    "import os\n",
    "import csv\n",
    "from time import time\n",
    "import supervision as sv\n",
    "\n",
    "class ObjectDetection:\n",
    "\n",
    "    def __init__(self, image_directory, keyframe_interval):\n",
    "        self.image_directory = image_directory\n",
    "        self.keyframe_interval = keyframe_interval\n",
    "\n",
    "        self.device = 'cuda' if torch.cuda.is_available() else 'cpu'\n",
    "        print(\"Using Device: \", self.device)\n",
    "\n",
    "        self.model = self.load_model()\n",
    "        self.CLASS_NAMES_DICT = self.model.model.names\n",
    "\n",
    "        self.box_annotator = sv.BoxAnnotator(sv.ColorPalette.default(), thickness=1, text_thickness=1, text_scale=0.5)\n",
    "        self.keyframe_detected = False\n",
    "        self.confidence_values = []\n",
    "\n",
    "    def load_model(self):\n",
    "        model = YOLO(\"best.pt\")\n",
    "        model.fuse()\n",
    "        return model\n",
    "\n",
    "    def predict(self, frame):\n",
    "        results = self.model(frame)\n",
    "        return results\n",
    "\n",
    "    def plot_bboxes(self, results, frame):\n",
    "        detections = sv.Detections(\n",
    "            xyxy=results[0].boxes.xyxy.cpu().numpy(),\n",
    "            confidence=results[0].boxes.conf.cpu().numpy(),\n",
    "            class_id=results[0].boxes.cls.cpu().numpy().astype(int),\n",
    "        )\n",
    "        self.labels = [f\"{self.CLASS_NAMES_DICT[class_id]} {confidence:0.2f}\"\n",
    "                       for _, confidence, class_id, tracker_id\n",
    "                       in detections]\n",
    "        frame = self.box_annotator.annotate(scene=frame, detections=detections, labels=self.labels)\n",
    "        return frame\n",
    "\n",
    "    def __call__(self):\n",
    "        save_directory = 'fishresult'\n",
    "        if not os.path.exists(save_directory):\n",
    "            os.makedirs(save_directory)\n",
    "\n",
    "        frame_number = 0\n",
    "\n",
    "        for file_name in os.listdir(self.image_directory):\n",
    "            if file_name.endswith('.jpg'):\n",
    "                start_time = time()\n",
    "\n",
    "                image_path = os.path.join(self.image_directory, file_name)\n",
    "                frame = cv2.imread(image_path)\n",
    "\n",
    "                if frame is not None:\n",
    "                    if self.keyframe_detected:\n",
    "                        self.keyframe_detected = False\n",
    "                        results = self.predict(frame)\n",
    "                        frame = self.plot_bboxes(results, frame)\n",
    "\n",
    "                    end_time = time()\n",
    "                    elapsed_time = end_time - start_time\n",
    "                    if elapsed_time > 0:\n",
    "                        fps = 1 / elapsed_time\n",
    "                    else:\n",
    "                        fps = float('inf')\n",
    "\n",
    "                    cv2.putText(frame, f'FPS: {int(fps)}', (10, 50), cv2.FONT_HERSHEY_SIMPLEX, 0.5, (0, 255, 0), 2)\n",
    "\n",
    "                    cv2.imshow('YOLOv8 Detection', frame)\n",
    "\n",
    "                    save_path = os.path.join(save_directory, f'frame_{frame_number}.jpg')\n",
    "                    cv2.imwrite(save_path, frame)\n",
    "                    print(f'Saved frame {frame_number} as {save_path}')\n",
    "\n",
    "                    results = self.predict(frame)\n",
    "                    confidence = results[0].boxes.conf.cpu().numpy()\n",
    "                    self.confidence_values.append(confidence)\n",
    "\n",
    "                    frame_number += 1\n",
    "\n",
    "                if cv2.waitKey(1) & 0xFF == ord('q'):\n",
    "                    break\n",
    "\n",
    "        save_path = os.path.join(save_directory, 'confidence.csv')\n",
    "        with open(save_path, 'w', newline='') as csvfile:\n",
    "            writer = csv.writer(csvfile)\n",
    "            writer.writerow(['Frame Number', 'Confidence'])\n",
    "            for i, confidence in enumerate(self.confidence_values):\n",
    "                writer.writerow([i, confidence])\n",
    "\n",
    "        cv2.destroyAllWindows()\n",
    "\n",
    "detector = ObjectDetection(image_directory=r'C:\\Users\\USER\\AI\\ultralytics\\detectingphotoshootv23\\test\\images', keyframe_interval=1)\n",
    "detector()\n"
   ]
  },
  {
   "cell_type": "code",
   "execution_count": null,
   "id": "87b21e50",
   "metadata": {},
   "outputs": [],
   "source": []
  }
 ],
 "metadata": {
  "kernelspec": {
   "display_name": "yolov8",
   "language": "python",
   "name": "yolov8"
  },
  "language_info": {
   "codemirror_mode": {
    "name": "ipython",
    "version": 3
   },
   "file_extension": ".py",
   "mimetype": "text/x-python",
   "name": "python",
   "nbconvert_exporter": "python",
   "pygments_lexer": "ipython3",
   "version": "3.9.13"
  }
 },
 "nbformat": 4,
 "nbformat_minor": 5
}
